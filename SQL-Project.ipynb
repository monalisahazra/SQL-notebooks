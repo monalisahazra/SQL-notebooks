{
    "metadata": {
        "kernelspec": {
            "name": "SQL",
            "display_name": "SQL",
            "language": "sql"
        },
        "language_info": {
            "name": "sql",
            "version": ""
        }
    },
    "nbformat_minor": 2,
    "nbformat": 4,
    "cells": [
        {
            "cell_type": "markdown",
            "source": [
                "# SQL exploration 1\n",
                "\n",
                " Developed by Monalisa Roy"
            ],
            "metadata": {
                "azdata_cell_guid": "981599c9-0d9f-4432-a019-84c37108170c"
            },
            "attachments": {}
        },
        {
            "cell_type": "code",
            "source": [
                "Create DATABASE Project;"
            ],
            "metadata": {
                "azdata_cell_guid": "f03fe531-db9d-4da2-8bb6-b0993e56b41e",
                "language": "sql"
            },
            "outputs": [
                {
                    "output_type": "display_data",
                    "data": {
                        "text/html": "Commands completed successfully."
                    },
                    "metadata": {}
                },
                {
                    "output_type": "display_data",
                    "data": {
                        "text/html": "Total execution time: 00:00:02.025"
                    },
                    "metadata": {}
                }
            ],
            "execution_count": 3
        },
        {
            "cell_type": "code",
            "source": [
                "USE Project;"
            ],
            "metadata": {
                "azdata_cell_guid": "f0cac8f8-8c47-4a83-8dbb-c111a493d88d",
                "language": "sql"
            },
            "outputs": [
                {
                    "output_type": "display_data",
                    "data": {
                        "text/html": "Commands completed successfully."
                    },
                    "metadata": {}
                },
                {
                    "output_type": "display_data",
                    "data": {
                        "text/html": "Total execution time: 00:00:00.001"
                    },
                    "metadata": {}
                }
            ],
            "execution_count": 4
        },
        {
            "cell_type": "markdown",
            "source": [
                "###  Creating a table"
            ],
            "metadata": {
                "azdata_cell_guid": "05db7e02-d84a-4c20-a093-a69da9c1431a"
            },
            "attachments": {}
        },
        {
            "cell_type": "code",
            "source": [
                "\n",
                "Create Table Location(\n",
                "Location_id int not null,\n",
                "City varchar(50),\n",
                "PRIMARY KEY (Location_id));"
            ],
            "metadata": {
                "azdata_cell_guid": "43c4961d-a400-4d2b-bb90-a9f681fdd052",
                "language": "sql"
            },
            "outputs": [
                {
                    "output_type": "display_data",
                    "data": {
                        "text/html": "Commands completed successfully."
                    },
                    "metadata": {}
                },
                {
                    "output_type": "display_data",
                    "data": {
                        "text/html": "Total execution time: 00:00:00.096"
                    },
                    "metadata": {}
                }
            ],
            "execution_count": 5
        },
        {
            "cell_type": "markdown",
            "source": [
                "###  Inserting values"
            ],
            "metadata": {
                "azdata_cell_guid": "a68c00de-dd54-4301-ab03-a5f9d6e201be"
            },
            "attachments": {}
        },
        {
            "cell_type": "code",
            "source": [
                "INSERT into Location values(122,'New York');\n",
                "INSERT into Location values(123,'Dallas');\n",
                "INSERT into Location values(124,'Chicago');\n",
                "INSERT into Location values(167,'Boston');"
            ],
            "metadata": {
                "azdata_cell_guid": "245f78bc-dd9d-4010-9825-3e7b308fd4f4",
                "language": "sql"
            },
            "outputs": [
                {
                    "output_type": "display_data",
                    "data": {
                        "text/html": "(1 row affected)"
                    },
                    "metadata": {}
                },
                {
                    "output_type": "display_data",
                    "data": {
                        "text/html": "(1 row affected)"
                    },
                    "metadata": {}
                },
                {
                    "output_type": "display_data",
                    "data": {
                        "text/html": "(1 row affected)"
                    },
                    "metadata": {}
                },
                {
                    "output_type": "display_data",
                    "data": {
                        "text/html": "(1 row affected)"
                    },
                    "metadata": {}
                },
                {
                    "output_type": "display_data",
                    "data": {
                        "text/html": "Total execution time: 00:00:00.365"
                    },
                    "metadata": {}
                }
            ],
            "execution_count": 6
        },
        {
            "cell_type": "markdown",
            "source": [
                "###  View table we just created"
            ],
            "metadata": {
                "language": "sql",
                "azdata_cell_guid": "2a7a0768-c75c-4704-af4f-4d05edb0259c"
            },
            "attachments": {}
        },
        {
            "cell_type": "code",
            "source": [
                "SELECT * from Location;"
            ],
            "metadata": {
                "azdata_cell_guid": "672c8d28-d8f8-4e16-aa3a-854714d487a4",
                "language": "sql"
            },
            "outputs": [
                {
                    "output_type": "display_data",
                    "data": {
                        "text/html": "(4 rows affected)"
                    },
                    "metadata": {}
                },
                {
                    "output_type": "display_data",
                    "data": {
                        "text/html": "Total execution time: 00:00:00.065"
                    },
                    "metadata": {}
                },
                {
                    "output_type": "execute_result",
                    "execution_count": 7,
                    "data": {
                        "application/vnd.dataresource+json": {
                            "schema": {
                                "fields": [
                                    {
                                        "name": "Location_id"
                                    },
                                    {
                                        "name": "City"
                                    }
                                ]
                            },
                            "data": [
                                {
                                    "0": "122",
                                    "1": "New York"
                                },
                                {
                                    "0": "123",
                                    "1": "Dallas"
                                },
                                {
                                    "0": "124",
                                    "1": "Chicago"
                                },
                                {
                                    "0": "167",
                                    "1": "Boston"
                                }
                            ]
                        },
                        "text/html": "<table><tr><th>Location_id</th><th>City</th></tr><tr><td>122</td><td>New York</td></tr><tr><td>123</td><td>Dallas</td></tr><tr><td>124</td><td>Chicago</td></tr><tr><td>167</td><td>Boston</td></tr></table>"
                    },
                    "metadata": {}
                }
            ],
            "execution_count": 7
        },
        {
            "cell_type": "markdown",
            "source": [
                "###  Create table called Department"
            ],
            "metadata": {
                "language": "sql",
                "azdata_cell_guid": "5f8a7297-ef63-4f9e-8e4f-2537054f0f20"
            },
            "attachments": {}
        },
        {
            "cell_type": "code",
            "source": [
                "CREATE TABLE Department(\n",
                "Department_id int not null,\n",
                "Name varchar(50),\n",
                "Location_id int,\n",
                "PRIMARY KEY (Department_id),\n",
                "FOREIGN KEY (Location_id) REFERENCES Location(Location_id));"
            ],
            "metadata": {
                "language": "sql",
                "azdata_cell_guid": "3330b576-4c9b-4bc0-8c82-0b010005729b"
            },
            "outputs": [
                {
                    "output_type": "display_data",
                    "data": {
                        "text/html": "Commands completed successfully."
                    },
                    "metadata": {}
                },
                {
                    "output_type": "display_data",
                    "data": {
                        "text/html": "Total execution time: 00:00:00.036"
                    },
                    "metadata": {}
                }
            ],
            "execution_count": 8
        },
        {
            "cell_type": "markdown",
            "source": [
                "###  Insert values into department"
            ],
            "metadata": {
                "language": "sql",
                "azdata_cell_guid": "238ba234-a8a2-4f22-b971-5d292d20890a"
            },
            "attachments": {}
        },
        {
            "cell_type": "code",
            "source": [
                "INSERT into Department values(\n",
                "10,'Accounting',122);\n",
                "INSERT into Department values(\n",
                "20,'Sales',124);\n",
                "INSERT into Department values(\n",
                "30,'Research',123);\n",
                "INSERT into Department values(\n",
                "40,'Operations',167);\n",
                "\n",
                "SELECT * from Department;\n",
                ""
            ],
            "metadata": {
                "language": "sql",
                "azdata_cell_guid": "bbb848d4-6ff6-40db-81fe-143fa8f66849"
            },
            "outputs": [
                {
                    "output_type": "display_data",
                    "data": {
                        "text/html": "(1 row affected)"
                    },
                    "metadata": {}
                },
                {
                    "output_type": "display_data",
                    "data": {
                        "text/html": "(1 row affected)"
                    },
                    "metadata": {}
                },
                {
                    "output_type": "display_data",
                    "data": {
                        "text/html": "(1 row affected)"
                    },
                    "metadata": {}
                },
                {
                    "output_type": "display_data",
                    "data": {
                        "text/html": "(1 row affected)"
                    },
                    "metadata": {}
                },
                {
                    "output_type": "display_data",
                    "data": {
                        "text/html": "(4 rows affected)"
                    },
                    "metadata": {}
                },
                {
                    "output_type": "display_data",
                    "data": {
                        "text/html": "Total execution time: 00:00:00.269"
                    },
                    "metadata": {}
                },
                {
                    "output_type": "execute_result",
                    "execution_count": 9,
                    "data": {
                        "application/vnd.dataresource+json": {
                            "schema": {
                                "fields": [
                                    {
                                        "name": "Department_id"
                                    },
                                    {
                                        "name": "Name"
                                    },
                                    {
                                        "name": "Location_id"
                                    }
                                ]
                            },
                            "data": [
                                {
                                    "0": "10",
                                    "1": "Accounting",
                                    "2": "122"
                                },
                                {
                                    "0": "20",
                                    "1": "Sales",
                                    "2": "124"
                                },
                                {
                                    "0": "30",
                                    "1": "Research",
                                    "2": "123"
                                },
                                {
                                    "0": "40",
                                    "1": "Operations",
                                    "2": "167"
                                }
                            ]
                        },
                        "text/html": "<table><tr><th>Department_id</th><th>Name</th><th>Location_id</th></tr><tr><td>10</td><td>Accounting</td><td>122</td></tr><tr><td>20</td><td>Sales</td><td>124</td></tr><tr><td>30</td><td>Research</td><td>123</td></tr><tr><td>40</td><td>Operations</td><td>167</td></tr></table>"
                    },
                    "metadata": {}
                }
            ],
            "execution_count": 9
        },
        {
            "cell_type": "markdown",
            "source": [
                "###  Create table job, insert values and view it"
            ],
            "metadata": {
                "language": "sql",
                "azdata_cell_guid": "0eb394bf-ec8c-4297-a404-2371ad88dd0d"
            },
            "attachments": {}
        },
        {
            "cell_type": "code",
            "source": [
                "CREATE TABLE Job(\n",
                "Job_id int not null,\n",
                "Designation varchar (100),\n",
                "PRIMARY KEY (Job_id)\n",
                ");\n",
                "\n",
                "INSERT into Job values(\n",
                " 667,'Clerk');   \n",
                " INSERT into Job values(\n",
                " 668,'Staff');\n",
                " INSERT into Job values(\n",
                " 669,'Analyst');\n",
                " INSERT into Job values(\n",
                " 670,'Sales Person');\n",
                " INSERT into Job values(\n",
                " 671,'Manager');\n",
                " INSERT into Job values(\n",
                " 672,'President');\n",
                "\n",
                " SELECT * from Job; "
            ],
            "metadata": {
                "language": "sql",
                "azdata_cell_guid": "49c3ba71-bb96-4a2e-90c7-ff6892a10eba"
            },
            "outputs": [
                {
                    "output_type": "display_data",
                    "data": {
                        "text/html": "(1 row affected)"
                    },
                    "metadata": {}
                },
                {
                    "output_type": "display_data",
                    "data": {
                        "text/html": "(1 row affected)"
                    },
                    "metadata": {}
                },
                {
                    "output_type": "display_data",
                    "data": {
                        "text/html": "(1 row affected)"
                    },
                    "metadata": {}
                },
                {
                    "output_type": "display_data",
                    "data": {
                        "text/html": "(1 row affected)"
                    },
                    "metadata": {}
                },
                {
                    "output_type": "display_data",
                    "data": {
                        "text/html": "(1 row affected)"
                    },
                    "metadata": {}
                },
                {
                    "output_type": "display_data",
                    "data": {
                        "text/html": "(1 row affected)"
                    },
                    "metadata": {}
                },
                {
                    "output_type": "display_data",
                    "data": {
                        "text/html": "(6 rows affected)"
                    },
                    "metadata": {}
                },
                {
                    "output_type": "display_data",
                    "data": {
                        "text/html": "Total execution time: 00:00:00.318"
                    },
                    "metadata": {}
                },
                {
                    "output_type": "execute_result",
                    "execution_count": 10,
                    "data": {
                        "application/vnd.dataresource+json": {
                            "schema": {
                                "fields": [
                                    {
                                        "name": "Job_id"
                                    },
                                    {
                                        "name": "Designation"
                                    }
                                ]
                            },
                            "data": [
                                {
                                    "0": "667",
                                    "1": "Clerk"
                                },
                                {
                                    "0": "668",
                                    "1": "Staff"
                                },
                                {
                                    "0": "669",
                                    "1": "Analyst"
                                },
                                {
                                    "0": "670",
                                    "1": "Sales Person"
                                },
                                {
                                    "0": "671",
                                    "1": "Manager"
                                },
                                {
                                    "0": "672",
                                    "1": "President"
                                }
                            ]
                        },
                        "text/html": "<table><tr><th>Job_id</th><th>Designation</th></tr><tr><td>667</td><td>Clerk</td></tr><tr><td>668</td><td>Staff</td></tr><tr><td>669</td><td>Analyst</td></tr><tr><td>670</td><td>Sales Person</td></tr><tr><td>671</td><td>Manager</td></tr><tr><td>672</td><td>President</td></tr></table>"
                    },
                    "metadata": {}
                }
            ],
            "execution_count": 10
        },
        {
            "cell_type": "markdown",
            "source": [
                "### Use of foreign keys"
            ],
            "metadata": {
                "azdata_cell_guid": "9ff76c23-4a54-47e1-a9ed-abb09fdd4730"
            },
            "attachments": {}
        },
        {
            "cell_type": "code",
            "source": [
                "CREATE TABLE Employee(\n",
                "Employee_id int not null,\n",
                "Last_Name varchar(50),\n",
                "First_Name varchar(100),\n",
                "Middle_Name varchar(20),\n",
                "Job_id int,\n",
                "Manager_id int,\n",
                "Hire_date date,\n",
                "Salary int,\n",
                "Comm int,\n",
                "Department_id int,\n",
                "FOREIGN KEY (Job_id) REFERENCES Job(Job_id),\n",
                "FOREIGN KEY (Department_id) REFERENCES Department(Department_id));\n",
                "\n",
                "INSERT INTO Employee Values(\n",
                "7369,'Smith','John','Q',667,7902,'1984-10-17',800,null,20 ); \n",
                "INSERT INTO Employee Values(\n",
                "7499,'Allen','Kevin','J',670,7698,'1985-02-20',1600,300,30); \n",
                "INSERT INTO Employee Values(\n",
                "7505,'Doyle','Jean','K',671,7839,'1985-04-04',2850,null,30); \n",
                "INSERT INTO Employee Values(\n",
                "7506,'Dennis','Lynn','S',671,7839,'1985-05-15',2750,null,30 ); \n",
                "INSERT INTO Employee Values(\n",
                "7507,'Baker','Leslie','D',671,7839,'1985-06-10',2200,null,40 ); \n",
                "INSERT INTO Employee Values(\n",
                "7521,'Wark','Cynthia','D',670,7698,'1985-02-22',1250,500,30);\n",
                ""
            ],
            "metadata": {
                "azdata_cell_guid": "d1310f5f-df87-41f0-a24b-1e1d94dbf9a1",
                "language": "sql"
            },
            "outputs": [
                {
                    "output_type": "display_data",
                    "data": {
                        "text/html": "(1 row affected)"
                    },
                    "metadata": {}
                },
                {
                    "output_type": "display_data",
                    "data": {
                        "text/html": "(1 row affected)"
                    },
                    "metadata": {}
                },
                {
                    "output_type": "display_data",
                    "data": {
                        "text/html": "(1 row affected)"
                    },
                    "metadata": {}
                },
                {
                    "output_type": "display_data",
                    "data": {
                        "text/html": "(1 row affected)"
                    },
                    "metadata": {}
                },
                {
                    "output_type": "display_data",
                    "data": {
                        "text/html": "(1 row affected)"
                    },
                    "metadata": {}
                },
                {
                    "output_type": "display_data",
                    "data": {
                        "text/html": "(1 row affected)"
                    },
                    "metadata": {}
                },
                {
                    "output_type": "display_data",
                    "data": {
                        "text/html": "Total execution time: 00:00:00.277"
                    },
                    "metadata": {}
                }
            ],
            "execution_count": 11
        },
        {
            "cell_type": "code",
            "source": [
                "Select * from Employee;"
            ],
            "metadata": {
                "azdata_cell_guid": "4ac0b377-7fb2-456f-a3e2-887ad52dc5e2",
                "language": "sql"
            },
            "outputs": [
                {
                    "output_type": "display_data",
                    "data": {
                        "text/html": "(6 rows affected)"
                    },
                    "metadata": {}
                },
                {
                    "output_type": "display_data",
                    "data": {
                        "text/html": "Total execution time: 00:00:00.009"
                    },
                    "metadata": {}
                },
                {
                    "output_type": "execute_result",
                    "execution_count": 12,
                    "data": {
                        "application/vnd.dataresource+json": {
                            "schema": {
                                "fields": [
                                    {
                                        "name": "Employee_id"
                                    },
                                    {
                                        "name": "Last_Name"
                                    },
                                    {
                                        "name": "First_Name"
                                    },
                                    {
                                        "name": "Middle_Name"
                                    },
                                    {
                                        "name": "Job_id"
                                    },
                                    {
                                        "name": "Manager_id"
                                    },
                                    {
                                        "name": "Hire_date"
                                    },
                                    {
                                        "name": "Salary"
                                    },
                                    {
                                        "name": "Comm"
                                    },
                                    {
                                        "name": "Department_id"
                                    }
                                ]
                            },
                            "data": [
                                {
                                    "0": "7369",
                                    "1": "Smith",
                                    "2": "John",
                                    "3": "Q",
                                    "4": "667",
                                    "5": "7902",
                                    "6": "1984-10-17",
                                    "7": "800",
                                    "8": "NULL",
                                    "9": "20"
                                },
                                {
                                    "0": "7499",
                                    "1": "Allen",
                                    "2": "Kevin",
                                    "3": "J",
                                    "4": "670",
                                    "5": "7698",
                                    "6": "1985-02-20",
                                    "7": "1600",
                                    "8": "300",
                                    "9": "30"
                                },
                                {
                                    "0": "7505",
                                    "1": "Doyle",
                                    "2": "Jean",
                                    "3": "K",
                                    "4": "671",
                                    "5": "7839",
                                    "6": "1985-04-04",
                                    "7": "2850",
                                    "8": "NULL",
                                    "9": "30"
                                },
                                {
                                    "0": "7506",
                                    "1": "Dennis",
                                    "2": "Lynn",
                                    "3": "S",
                                    "4": "671",
                                    "5": "7839",
                                    "6": "1985-05-15",
                                    "7": "2750",
                                    "8": "NULL",
                                    "9": "30"
                                },
                                {
                                    "0": "7507",
                                    "1": "Baker",
                                    "2": "Leslie",
                                    "3": "D",
                                    "4": "671",
                                    "5": "7839",
                                    "6": "1985-06-10",
                                    "7": "2200",
                                    "8": "NULL",
                                    "9": "40"
                                },
                                {
                                    "0": "7521",
                                    "1": "Wark",
                                    "2": "Cynthia",
                                    "3": "D",
                                    "4": "670",
                                    "5": "7698",
                                    "6": "1985-02-22",
                                    "7": "1250",
                                    "8": "500",
                                    "9": "30"
                                }
                            ]
                        },
                        "text/html": "<table><tr><th>Employee_id</th><th>Last_Name</th><th>First_Name</th><th>Middle_Name</th><th>Job_id</th><th>Manager_id</th><th>Hire_date</th><th>Salary</th><th>Comm</th><th>Department_id</th></tr><tr><td>7369</td><td>Smith</td><td>John</td><td>Q</td><td>667</td><td>7902</td><td>1984-10-17</td><td>800</td><td>NULL</td><td>20</td></tr><tr><td>7499</td><td>Allen</td><td>Kevin</td><td>J</td><td>670</td><td>7698</td><td>1985-02-20</td><td>1600</td><td>300</td><td>30</td></tr><tr><td>7505</td><td>Doyle</td><td>Jean</td><td>K</td><td>671</td><td>7839</td><td>1985-04-04</td><td>2850</td><td>NULL</td><td>30</td></tr><tr><td>7506</td><td>Dennis</td><td>Lynn</td><td>S</td><td>671</td><td>7839</td><td>1985-05-15</td><td>2750</td><td>NULL</td><td>30</td></tr><tr><td>7507</td><td>Baker</td><td>Leslie</td><td>D</td><td>671</td><td>7839</td><td>1985-06-10</td><td>2200</td><td>NULL</td><td>40</td></tr><tr><td>7521</td><td>Wark</td><td>Cynthia</td><td>D</td><td>670</td><td>7698</td><td>1985-02-22</td><td>1250</td><td>500</td><td>30</td></tr></table>"
                    },
                    "metadata": {}
                }
            ],
            "execution_count": 12
        },
        {
            "cell_type": "markdown",
            "source": [
                "**List out Firstname, Lastname,Salary, Commission for all employees**"
            ],
            "metadata": {
                "azdata_cell_guid": "a1656dcf-8f3a-4b70-8b34-430452dae661"
            },
            "attachments": {}
        },
        {
            "cell_type": "code",
            "source": [
                "SELECT First_Name, Last_Name, Salary, Comm from Employee;"
            ],
            "metadata": {
                "azdata_cell_guid": "3958c165-c916-454f-ac85-7b11b4bdede2",
                "language": "sql"
            },
            "outputs": [
                {
                    "output_type": "display_data",
                    "data": {
                        "text/html": "(6 rows affected)"
                    },
                    "metadata": {}
                },
                {
                    "output_type": "display_data",
                    "data": {
                        "text/html": "Total execution time: 00:00:00.003"
                    },
                    "metadata": {}
                },
                {
                    "output_type": "execute_result",
                    "execution_count": 13,
                    "data": {
                        "application/vnd.dataresource+json": {
                            "schema": {
                                "fields": [
                                    {
                                        "name": "First_Name"
                                    },
                                    {
                                        "name": "Last_Name"
                                    },
                                    {
                                        "name": "Salary"
                                    },
                                    {
                                        "name": "Comm"
                                    }
                                ]
                            },
                            "data": [
                                {
                                    "0": "John",
                                    "1": "Smith",
                                    "2": "800",
                                    "3": "NULL"
                                },
                                {
                                    "0": "Kevin",
                                    "1": "Allen",
                                    "2": "1600",
                                    "3": "300"
                                },
                                {
                                    "0": "Jean",
                                    "1": "Doyle",
                                    "2": "2850",
                                    "3": "NULL"
                                },
                                {
                                    "0": "Lynn",
                                    "1": "Dennis",
                                    "2": "2750",
                                    "3": "NULL"
                                },
                                {
                                    "0": "Leslie",
                                    "1": "Baker",
                                    "2": "2200",
                                    "3": "NULL"
                                },
                                {
                                    "0": "Cynthia",
                                    "1": "Wark",
                                    "2": "1250",
                                    "3": "500"
                                }
                            ]
                        },
                        "text/html": "<table><tr><th>First_Name</th><th>Last_Name</th><th>Salary</th><th>Comm</th></tr><tr><td>John</td><td>Smith</td><td>800</td><td>NULL</td></tr><tr><td>Kevin</td><td>Allen</td><td>1600</td><td>300</td></tr><tr><td>Jean</td><td>Doyle</td><td>2850</td><td>NULL</td></tr><tr><td>Lynn</td><td>Dennis</td><td>2750</td><td>NULL</td></tr><tr><td>Leslie</td><td>Baker</td><td>2200</td><td>NULL</td></tr><tr><td>Cynthia</td><td>Wark</td><td>1250</td><td>500</td></tr></table>"
                    },
                    "metadata": {}
                }
            ],
            "execution_count": 13
        },
        {
            "cell_type": "markdown",
            "source": [
                "**List out Employeeid, Lastname, Departmentid for all employee and alias employeeid as 'ID of the Employee', Lastname as 'Name of the Employee', Departmentid as Dep\\_ID'**"
            ],
            "metadata": {
                "azdata_cell_guid": "8d41befc-7ea3-4558-8ab0-30a724349f81"
            },
            "attachments": {}
        },
        {
            "cell_type": "code",
            "source": [
                "SELECT Employee_id as 'Id of the Employee', Last_Name as 'Name of the Employee', Department_id as 'Dep_id' from Employee;"
            ],
            "metadata": {
                "azdata_cell_guid": "46e13015-ad80-4aa8-92ac-7937d82f9eec",
                "language": "sql"
            },
            "outputs": [
                {
                    "output_type": "display_data",
                    "data": {
                        "text/html": "(6 rows affected)"
                    },
                    "metadata": {}
                },
                {
                    "output_type": "display_data",
                    "data": {
                        "text/html": "Total execution time: 00:00:00.003"
                    },
                    "metadata": {}
                },
                {
                    "output_type": "execute_result",
                    "execution_count": 14,
                    "data": {
                        "application/vnd.dataresource+json": {
                            "schema": {
                                "fields": [
                                    {
                                        "name": "Id of the Employee"
                                    },
                                    {
                                        "name": "Name of the Employee"
                                    },
                                    {
                                        "name": "Dep_id"
                                    }
                                ]
                            },
                            "data": [
                                {
                                    "0": "7369",
                                    "1": "Smith",
                                    "2": "20"
                                },
                                {
                                    "0": "7499",
                                    "1": "Allen",
                                    "2": "30"
                                },
                                {
                                    "0": "7505",
                                    "1": "Doyle",
                                    "2": "30"
                                },
                                {
                                    "0": "7506",
                                    "1": "Dennis",
                                    "2": "30"
                                },
                                {
                                    "0": "7507",
                                    "1": "Baker",
                                    "2": "40"
                                },
                                {
                                    "0": "7521",
                                    "1": "Wark",
                                    "2": "30"
                                }
                            ]
                        },
                        "text/html": "<table><tr><th>Id of the Employee</th><th>Name of the Employee</th><th>Dep_id</th></tr><tr><td>7369</td><td>Smith</td><td>20</td></tr><tr><td>7499</td><td>Allen</td><td>30</td></tr><tr><td>7505</td><td>Doyle</td><td>30</td></tr><tr><td>7506</td><td>Dennis</td><td>30</td></tr><tr><td>7507</td><td>Baker</td><td>40</td></tr><tr><td>7521</td><td>Wark</td><td>30</td></tr></table>"
                    },
                    "metadata": {}
                }
            ],
            "execution_count": 14
        },
        {
            "cell_type": "markdown",
            "source": [
                "**List out the Employees annual salary with their names only**"
            ],
            "metadata": {
                "language": "sql",
                "azdata_cell_guid": "83f00179-c603-4de4-9cb2-844d465bb6ec"
            },
            "attachments": {}
        },
        {
            "cell_type": "code",
            "source": [
                "SELECT First_Name, Middle_Name, Last_Name, Salary from Employee;"
            ],
            "metadata": {
                "language": "sql",
                "azdata_cell_guid": "81f7923d-a731-4307-9002-e6a442323b0d"
            },
            "outputs": [
                {
                    "output_type": "display_data",
                    "data": {
                        "text/html": "(6 rows affected)"
                    },
                    "metadata": {}
                },
                {
                    "output_type": "display_data",
                    "data": {
                        "text/html": "Total execution time: 00:00:00.002"
                    },
                    "metadata": {}
                },
                {
                    "output_type": "execute_result",
                    "execution_count": 15,
                    "data": {
                        "application/vnd.dataresource+json": {
                            "schema": {
                                "fields": [
                                    {
                                        "name": "First_Name"
                                    },
                                    {
                                        "name": "Middle_Name"
                                    },
                                    {
                                        "name": "Last_Name"
                                    },
                                    {
                                        "name": "Salary"
                                    }
                                ]
                            },
                            "data": [
                                {
                                    "0": "John",
                                    "1": "Q",
                                    "2": "Smith",
                                    "3": "800"
                                },
                                {
                                    "0": "Kevin",
                                    "1": "J",
                                    "2": "Allen",
                                    "3": "1600"
                                },
                                {
                                    "0": "Jean",
                                    "1": "K",
                                    "2": "Doyle",
                                    "3": "2850"
                                },
                                {
                                    "0": "Lynn",
                                    "1": "S",
                                    "2": "Dennis",
                                    "3": "2750"
                                },
                                {
                                    "0": "Leslie",
                                    "1": "D",
                                    "2": "Baker",
                                    "3": "2200"
                                },
                                {
                                    "0": "Cynthia",
                                    "1": "D",
                                    "2": "Wark",
                                    "3": "1250"
                                }
                            ]
                        },
                        "text/html": "<table><tr><th>First_Name</th><th>Middle_Name</th><th>Last_Name</th><th>Salary</th></tr><tr><td>John</td><td>Q</td><td>Smith</td><td>800</td></tr><tr><td>Kevin</td><td>J</td><td>Allen</td><td>1600</td></tr><tr><td>Jean</td><td>K</td><td>Doyle</td><td>2850</td></tr><tr><td>Lynn</td><td>S</td><td>Dennis</td><td>2750</td></tr><tr><td>Leslie</td><td>D</td><td>Baker</td><td>2200</td></tr><tr><td>Cynthia</td><td>D</td><td>Wark</td><td>1250</td></tr></table>"
                    },
                    "metadata": {}
                }
            ],
            "execution_count": 15
        },
        {
            "cell_type": "markdown",
            "source": [
                "**List the details about 'Smith'**"
            ],
            "metadata": {
                "azdata_cell_guid": "935122e7-b58e-4d77-9429-5773c62115d9"
            },
            "attachments": {}
        },
        {
            "cell_type": "code",
            "source": [
                "SELECT * from Employee WHERE Last_Name = 'Smith';"
            ],
            "metadata": {
                "azdata_cell_guid": "c11990fa-d2d2-4ff1-8ae7-2c2aa8335d04",
                "language": "sql"
            },
            "outputs": [
                {
                    "output_type": "display_data",
                    "data": {
                        "text/html": "(1 row affected)"
                    },
                    "metadata": {}
                },
                {
                    "output_type": "display_data",
                    "data": {
                        "text/html": "Total execution time: 00:00:00.046"
                    },
                    "metadata": {}
                },
                {
                    "output_type": "execute_result",
                    "execution_count": 16,
                    "data": {
                        "application/vnd.dataresource+json": {
                            "schema": {
                                "fields": [
                                    {
                                        "name": "Employee_id"
                                    },
                                    {
                                        "name": "Last_Name"
                                    },
                                    {
                                        "name": "First_Name"
                                    },
                                    {
                                        "name": "Middle_Name"
                                    },
                                    {
                                        "name": "Job_id"
                                    },
                                    {
                                        "name": "Manager_id"
                                    },
                                    {
                                        "name": "Hire_date"
                                    },
                                    {
                                        "name": "Salary"
                                    },
                                    {
                                        "name": "Comm"
                                    },
                                    {
                                        "name": "Department_id"
                                    }
                                ]
                            },
                            "data": [
                                {
                                    "0": "7369",
                                    "1": "Smith",
                                    "2": "John",
                                    "3": "Q",
                                    "4": "667",
                                    "5": "7902",
                                    "6": "1984-10-17",
                                    "7": "800",
                                    "8": "NULL",
                                    "9": "20"
                                }
                            ]
                        },
                        "text/html": "<table><tr><th>Employee_id</th><th>Last_Name</th><th>First_Name</th><th>Middle_Name</th><th>Job_id</th><th>Manager_id</th><th>Hire_date</th><th>Salary</th><th>Comm</th><th>Department_id</th></tr><tr><td>7369</td><td>Smith</td><td>John</td><td>Q</td><td>667</td><td>7902</td><td>1984-10-17</td><td>800</td><td>NULL</td><td>20</td></tr></table>"
                    },
                    "metadata": {}
                }
            ],
            "execution_count": 16
        },
        {
            "cell_type": "markdown",
            "source": [
                "**List out the employees who are working in department 20**"
            ],
            "metadata": {
                "language": "sql",
                "azdata_cell_guid": "06399d2e-0031-4a80-815f-c812103b2b29"
            },
            "attachments": {}
        },
        {
            "cell_type": "code",
            "source": [
                "SELECT * from Employee WHERE Department_id=20;"
            ],
            "metadata": {
                "language": "sql",
                "azdata_cell_guid": "597e2463-5ec2-4fcb-a6e1-8440117941af"
            },
            "outputs": [
                {
                    "output_type": "display_data",
                    "data": {
                        "text/html": "(1 row affected)"
                    },
                    "metadata": {}
                },
                {
                    "output_type": "display_data",
                    "data": {
                        "text/html": "Total execution time: 00:00:00.059"
                    },
                    "metadata": {}
                },
                {
                    "output_type": "execute_result",
                    "execution_count": 17,
                    "data": {
                        "application/vnd.dataresource+json": {
                            "schema": {
                                "fields": [
                                    {
                                        "name": "Employee_id"
                                    },
                                    {
                                        "name": "Last_Name"
                                    },
                                    {
                                        "name": "First_Name"
                                    },
                                    {
                                        "name": "Middle_Name"
                                    },
                                    {
                                        "name": "Job_id"
                                    },
                                    {
                                        "name": "Manager_id"
                                    },
                                    {
                                        "name": "Hire_date"
                                    },
                                    {
                                        "name": "Salary"
                                    },
                                    {
                                        "name": "Comm"
                                    },
                                    {
                                        "name": "Department_id"
                                    }
                                ]
                            },
                            "data": [
                                {
                                    "0": "7369",
                                    "1": "Smith",
                                    "2": "John",
                                    "3": "Q",
                                    "4": "667",
                                    "5": "7902",
                                    "6": "1984-10-17",
                                    "7": "800",
                                    "8": "NULL",
                                    "9": "20"
                                }
                            ]
                        },
                        "text/html": "<table><tr><th>Employee_id</th><th>Last_Name</th><th>First_Name</th><th>Middle_Name</th><th>Job_id</th><th>Manager_id</th><th>Hire_date</th><th>Salary</th><th>Comm</th><th>Department_id</th></tr><tr><td>7369</td><td>Smith</td><td>John</td><td>Q</td><td>667</td><td>7902</td><td>1984-10-17</td><td>800</td><td>NULL</td><td>20</td></tr></table>"
                    },
                    "metadata": {}
                }
            ],
            "execution_count": 17
        },
        {
            "cell_type": "markdown",
            "source": [
                "**List out the employees who are earning salary between 1000 and 2000**"
            ],
            "metadata": {
                "language": "sql",
                "azdata_cell_guid": "ff2619cd-5a3a-4c5a-9f42-21761c3df0d2"
            },
            "attachments": {}
        },
        {
            "cell_type": "code",
            "source": [
                "SELECT * from   Employee WHERE Salary BETWEEN 1000 and 2000;"
            ],
            "metadata": {
                "language": "sql",
                "azdata_cell_guid": "f938ccdf-b93d-4caf-b4ed-817839f9741a"
            },
            "outputs": [
                {
                    "output_type": "display_data",
                    "data": {
                        "text/html": "(2 rows affected)"
                    },
                    "metadata": {}
                },
                {
                    "output_type": "display_data",
                    "data": {
                        "text/html": "Total execution time: 00:00:00.003"
                    },
                    "metadata": {}
                },
                {
                    "output_type": "execute_result",
                    "execution_count": 19,
                    "data": {
                        "application/vnd.dataresource+json": {
                            "schema": {
                                "fields": [
                                    {
                                        "name": "Employee_id"
                                    },
                                    {
                                        "name": "Last_Name"
                                    },
                                    {
                                        "name": "First_Name"
                                    },
                                    {
                                        "name": "Middle_Name"
                                    },
                                    {
                                        "name": "Job_id"
                                    },
                                    {
                                        "name": "Manager_id"
                                    },
                                    {
                                        "name": "Hire_date"
                                    },
                                    {
                                        "name": "Salary"
                                    },
                                    {
                                        "name": "Comm"
                                    },
                                    {
                                        "name": "Department_id"
                                    }
                                ]
                            },
                            "data": [
                                {
                                    "0": "7499",
                                    "1": "Allen",
                                    "2": "Kevin",
                                    "3": "J",
                                    "4": "670",
                                    "5": "7698",
                                    "6": "1985-02-20",
                                    "7": "1600",
                                    "8": "300",
                                    "9": "30"
                                },
                                {
                                    "0": "7521",
                                    "1": "Wark",
                                    "2": "Cynthia",
                                    "3": "D",
                                    "4": "670",
                                    "5": "7698",
                                    "6": "1985-02-22",
                                    "7": "1250",
                                    "8": "500",
                                    "9": "30"
                                }
                            ]
                        },
                        "text/html": "<table><tr><th>Employee_id</th><th>Last_Name</th><th>First_Name</th><th>Middle_Name</th><th>Job_id</th><th>Manager_id</th><th>Hire_date</th><th>Salary</th><th>Comm</th><th>Department_id</th></tr><tr><td>7499</td><td>Allen</td><td>Kevin</td><td>J</td><td>670</td><td>7698</td><td>1985-02-20</td><td>1600</td><td>300</td><td>30</td></tr><tr><td>7521</td><td>Wark</td><td>Cynthia</td><td>D</td><td>670</td><td>7698</td><td>1985-02-22</td><td>1250</td><td>500</td><td>30</td></tr></table>"
                    },
                    "metadata": {}
                }
            ],
            "execution_count": 19
        },
        {
            "cell_type": "markdown",
            "source": [
                "**List out the employees who are working in department 10 or 30**"
            ],
            "metadata": {
                "language": "sql",
                "azdata_cell_guid": "193a26fd-5ede-4db3-99c1-adaf54cfc2da"
            },
            "attachments": {}
        },
        {
            "cell_type": "code",
            "source": [
                "SELECT * from Employee WHERE Department_id=10 or Department_id=30;"
            ],
            "metadata": {
                "language": "sql",
                "azdata_cell_guid": "ddd3f028-729a-48f0-8a3f-90c23b3c9d9a"
            },
            "outputs": [
                {
                    "output_type": "display_data",
                    "data": {
                        "text/html": "(4 rows affected)"
                    },
                    "metadata": {}
                },
                {
                    "output_type": "display_data",
                    "data": {
                        "text/html": "Total execution time: 00:00:00.003"
                    },
                    "metadata": {}
                },
                {
                    "output_type": "execute_result",
                    "execution_count": 20,
                    "data": {
                        "application/vnd.dataresource+json": {
                            "schema": {
                                "fields": [
                                    {
                                        "name": "Employee_id"
                                    },
                                    {
                                        "name": "Last_Name"
                                    },
                                    {
                                        "name": "First_Name"
                                    },
                                    {
                                        "name": "Middle_Name"
                                    },
                                    {
                                        "name": "Job_id"
                                    },
                                    {
                                        "name": "Manager_id"
                                    },
                                    {
                                        "name": "Hire_date"
                                    },
                                    {
                                        "name": "Salary"
                                    },
                                    {
                                        "name": "Comm"
                                    },
                                    {
                                        "name": "Department_id"
                                    }
                                ]
                            },
                            "data": [
                                {
                                    "0": "7499",
                                    "1": "Allen",
                                    "2": "Kevin",
                                    "3": "J",
                                    "4": "670",
                                    "5": "7698",
                                    "6": "1985-02-20",
                                    "7": "1600",
                                    "8": "300",
                                    "9": "30"
                                },
                                {
                                    "0": "7505",
                                    "1": "Doyle",
                                    "2": "Jean",
                                    "3": "K",
                                    "4": "671",
                                    "5": "7839",
                                    "6": "1985-04-04",
                                    "7": "2850",
                                    "8": "NULL",
                                    "9": "30"
                                },
                                {
                                    "0": "7506",
                                    "1": "Dennis",
                                    "2": "Lynn",
                                    "3": "S",
                                    "4": "671",
                                    "5": "7839",
                                    "6": "1985-05-15",
                                    "7": "2750",
                                    "8": "NULL",
                                    "9": "30"
                                },
                                {
                                    "0": "7521",
                                    "1": "Wark",
                                    "2": "Cynthia",
                                    "3": "D",
                                    "4": "670",
                                    "5": "7698",
                                    "6": "1985-02-22",
                                    "7": "1250",
                                    "8": "500",
                                    "9": "30"
                                }
                            ]
                        },
                        "text/html": "<table><tr><th>Employee_id</th><th>Last_Name</th><th>First_Name</th><th>Middle_Name</th><th>Job_id</th><th>Manager_id</th><th>Hire_date</th><th>Salary</th><th>Comm</th><th>Department_id</th></tr><tr><td>7499</td><td>Allen</td><td>Kevin</td><td>J</td><td>670</td><td>7698</td><td>1985-02-20</td><td>1600</td><td>300</td><td>30</td></tr><tr><td>7505</td><td>Doyle</td><td>Jean</td><td>K</td><td>671</td><td>7839</td><td>1985-04-04</td><td>2850</td><td>NULL</td><td>30</td></tr><tr><td>7506</td><td>Dennis</td><td>Lynn</td><td>S</td><td>671</td><td>7839</td><td>1985-05-15</td><td>2750</td><td>NULL</td><td>30</td></tr><tr><td>7521</td><td>Wark</td><td>Cynthia</td><td>D</td><td>670</td><td>7698</td><td>1985-02-22</td><td>1250</td><td>500</td><td>30</td></tr></table>"
                    },
                    "metadata": {}
                }
            ],
            "execution_count": 20
        },
        {
            "cell_type": "markdown",
            "source": [
                "**List out the employees whose Lastname starts with 'S'**"
            ],
            "metadata": {
                "language": "sql",
                "azdata_cell_guid": "434b0209-e4e6-4a31-bd54-9a79bf4b7a2c"
            },
            "attachments": {}
        },
        {
            "cell_type": "code",
            "source": [
                "SELECT * from Employee WHERE Last_Name LIKE 'S%';"
            ],
            "metadata": {
                "language": "sql",
                "azdata_cell_guid": "378bb91f-0fc7-487f-ad98-0d48a61bc726"
            },
            "outputs": [
                {
                    "output_type": "display_data",
                    "data": {
                        "text/html": "(1 row affected)"
                    },
                    "metadata": {}
                },
                {
                    "output_type": "display_data",
                    "data": {
                        "text/html": "Total execution time: 00:00:00.004"
                    },
                    "metadata": {}
                },
                {
                    "output_type": "execute_result",
                    "execution_count": 21,
                    "data": {
                        "application/vnd.dataresource+json": {
                            "schema": {
                                "fields": [
                                    {
                                        "name": "Employee_id"
                                    },
                                    {
                                        "name": "Last_Name"
                                    },
                                    {
                                        "name": "First_Name"
                                    },
                                    {
                                        "name": "Middle_Name"
                                    },
                                    {
                                        "name": "Job_id"
                                    },
                                    {
                                        "name": "Manager_id"
                                    },
                                    {
                                        "name": "Hire_date"
                                    },
                                    {
                                        "name": "Salary"
                                    },
                                    {
                                        "name": "Comm"
                                    },
                                    {
                                        "name": "Department_id"
                                    }
                                ]
                            },
                            "data": [
                                {
                                    "0": "7369",
                                    "1": "Smith",
                                    "2": "John",
                                    "3": "Q",
                                    "4": "667",
                                    "5": "7902",
                                    "6": "1984-10-17",
                                    "7": "800",
                                    "8": "NULL",
                                    "9": "20"
                                }
                            ]
                        },
                        "text/html": "<table><tr><th>Employee_id</th><th>Last_Name</th><th>First_Name</th><th>Middle_Name</th><th>Job_id</th><th>Manager_id</th><th>Hire_date</th><th>Salary</th><th>Comm</th><th>Department_id</th></tr><tr><td>7369</td><td>Smith</td><td>John</td><td>Q</td><td>667</td><td>7902</td><td>1984-10-17</td><td>800</td><td>NULL</td><td>20</td></tr></table>"
                    },
                    "metadata": {}
                }
            ],
            "execution_count": 21
        },
        {
            "cell_type": "markdown",
            "source": [
                "**List out the employees whose Last name starts with 'S' and ends with 'H'**"
            ],
            "metadata": {
                "language": "sql",
                "azdata_cell_guid": "6c2a81f3-f734-4a8c-ae05-e5b9cd641684"
            },
            "attachments": {}
        },
        {
            "cell_type": "code",
            "source": [
                "SELECT * from Employee WHERE Last_Name LIKE 'S%h';"
            ],
            "metadata": {
                "language": "sql",
                "azdata_cell_guid": "c2c7d67d-6b1c-40bf-9855-bd3ea60ba5f5"
            },
            "outputs": [
                {
                    "output_type": "display_data",
                    "data": {
                        "text/html": "(1 row affected)"
                    },
                    "metadata": {}
                },
                {
                    "output_type": "display_data",
                    "data": {
                        "text/html": "Total execution time: 00:00:00.009"
                    },
                    "metadata": {}
                },
                {
                    "output_type": "execute_result",
                    "execution_count": 24,
                    "data": {
                        "application/vnd.dataresource+json": {
                            "schema": {
                                "fields": [
                                    {
                                        "name": "Employee_id"
                                    },
                                    {
                                        "name": "Last_Name"
                                    },
                                    {
                                        "name": "First_Name"
                                    },
                                    {
                                        "name": "Middle_Name"
                                    },
                                    {
                                        "name": "Job_id"
                                    },
                                    {
                                        "name": "Manager_id"
                                    },
                                    {
                                        "name": "Hire_date"
                                    },
                                    {
                                        "name": "Salary"
                                    },
                                    {
                                        "name": "Comm"
                                    },
                                    {
                                        "name": "Department_id"
                                    }
                                ]
                            },
                            "data": [
                                {
                                    "0": "7369",
                                    "1": "Smith",
                                    "2": "John",
                                    "3": "Q",
                                    "4": "667",
                                    "5": "7902",
                                    "6": "1984-10-17",
                                    "7": "800",
                                    "8": "NULL",
                                    "9": "20"
                                }
                            ]
                        },
                        "text/html": "<table><tr><th>Employee_id</th><th>Last_Name</th><th>First_Name</th><th>Middle_Name</th><th>Job_id</th><th>Manager_id</th><th>Hire_date</th><th>Salary</th><th>Comm</th><th>Department_id</th></tr><tr><td>7369</td><td>Smith</td><td>John</td><td>Q</td><td>667</td><td>7902</td><td>1984-10-17</td><td>800</td><td>NULL</td><td>20</td></tr></table>"
                    },
                    "metadata": {}
                }
            ],
            "execution_count": 24
        },
        {
            "cell_type": "markdown",
            "source": [
                "**List out the employees whose Lastname length is 4 and start with 'S'**"
            ],
            "metadata": {
                "language": "sql",
                "azdata_cell_guid": "c508f1d3-ade3-4d57-b2b8-1c21929a11ad"
            },
            "attachments": {}
        },
        {
            "cell_type": "code",
            "source": [
                "SELECT * from Employee WHERE Last_Name LIKE 'S___%';"
            ],
            "metadata": {
                "language": "sql",
                "azdata_cell_guid": "c983014f-d84d-4de9-83c9-41570d4eebc9"
            },
            "outputs": [
                {
                    "output_type": "display_data",
                    "data": {
                        "text/html": "(1 row affected)"
                    },
                    "metadata": {}
                },
                {
                    "output_type": "display_data",
                    "data": {
                        "text/html": "Total execution time: 00:00:00.003"
                    },
                    "metadata": {}
                },
                {
                    "output_type": "execute_result",
                    "execution_count": 25,
                    "data": {
                        "application/vnd.dataresource+json": {
                            "schema": {
                                "fields": [
                                    {
                                        "name": "Employee_id"
                                    },
                                    {
                                        "name": "Last_Name"
                                    },
                                    {
                                        "name": "First_Name"
                                    },
                                    {
                                        "name": "Middle_Name"
                                    },
                                    {
                                        "name": "Job_id"
                                    },
                                    {
                                        "name": "Manager_id"
                                    },
                                    {
                                        "name": "Hire_date"
                                    },
                                    {
                                        "name": "Salary"
                                    },
                                    {
                                        "name": "Comm"
                                    },
                                    {
                                        "name": "Department_id"
                                    }
                                ]
                            },
                            "data": [
                                {
                                    "0": "7369",
                                    "1": "Smith",
                                    "2": "John",
                                    "3": "Q",
                                    "4": "667",
                                    "5": "7902",
                                    "6": "1984-10-17",
                                    "7": "800",
                                    "8": "NULL",
                                    "9": "20"
                                }
                            ]
                        },
                        "text/html": "<table><tr><th>Employee_id</th><th>Last_Name</th><th>First_Name</th><th>Middle_Name</th><th>Job_id</th><th>Manager_id</th><th>Hire_date</th><th>Salary</th><th>Comm</th><th>Department_id</th></tr><tr><td>7369</td><td>Smith</td><td>John</td><td>Q</td><td>667</td><td>7902</td><td>1984-10-17</td><td>800</td><td>NULL</td><td>20</td></tr></table>"
                    },
                    "metadata": {}
                }
            ],
            "execution_count": 25
        },
        {
            "cell_type": "markdown",
            "source": [
                "**List out employees who are working in department 30 and draw the salaries more than 2500**"
            ],
            "metadata": {
                "language": "sql",
                "azdata_cell_guid": "6f089243-ba5a-4dfc-9a89-72a7acdc3bed"
            },
            "attachments": {}
        },
        {
            "cell_type": "code",
            "source": [
                "SELECT * from Employee WHERE Department_id = 30 AND Salary>2500;"
            ],
            "metadata": {
                "language": "sql",
                "azdata_cell_guid": "6ed5b6a3-5019-437e-96a1-5b91fc431103"
            },
            "outputs": [
                {
                    "output_type": "display_data",
                    "data": {
                        "text/html": "(2 rows affected)"
                    },
                    "metadata": {}
                },
                {
                    "output_type": "display_data",
                    "data": {
                        "text/html": "Total execution time: 00:00:00.002"
                    },
                    "metadata": {}
                },
                {
                    "output_type": "execute_result",
                    "execution_count": 28,
                    "data": {
                        "application/vnd.dataresource+json": {
                            "schema": {
                                "fields": [
                                    {
                                        "name": "Employee_id"
                                    },
                                    {
                                        "name": "Last_Name"
                                    },
                                    {
                                        "name": "First_Name"
                                    },
                                    {
                                        "name": "Middle_Name"
                                    },
                                    {
                                        "name": "Job_id"
                                    },
                                    {
                                        "name": "Manager_id"
                                    },
                                    {
                                        "name": "Hire_date"
                                    },
                                    {
                                        "name": "Salary"
                                    },
                                    {
                                        "name": "Comm"
                                    },
                                    {
                                        "name": "Department_id"
                                    }
                                ]
                            },
                            "data": [
                                {
                                    "0": "7505",
                                    "1": "Doyle",
                                    "2": "Jean",
                                    "3": "K",
                                    "4": "671",
                                    "5": "7839",
                                    "6": "1985-04-04",
                                    "7": "2850",
                                    "8": "NULL",
                                    "9": "30"
                                },
                                {
                                    "0": "7506",
                                    "1": "Dennis",
                                    "2": "Lynn",
                                    "3": "S",
                                    "4": "671",
                                    "5": "7839",
                                    "6": "1985-05-15",
                                    "7": "2750",
                                    "8": "NULL",
                                    "9": "30"
                                }
                            ]
                        },
                        "text/html": "<table><tr><th>Employee_id</th><th>Last_Name</th><th>First_Name</th><th>Middle_Name</th><th>Job_id</th><th>Manager_id</th><th>Hire_date</th><th>Salary</th><th>Comm</th><th>Department_id</th></tr><tr><td>7505</td><td>Doyle</td><td>Jean</td><td>K</td><td>671</td><td>7839</td><td>1985-04-04</td><td>2850</td><td>NULL</td><td>30</td></tr><tr><td>7506</td><td>Dennis</td><td>Lynn</td><td>S</td><td>671</td><td>7839</td><td>1985-05-15</td><td>2750</td><td>NULL</td><td>30</td></tr></table>"
                    },
                    "metadata": {}
                }
            ],
            "execution_count": 28
        },
        {
            "cell_type": "markdown",
            "source": [
                "**List out the employees who are not receiving commission**"
            ],
            "metadata": {
                "language": "sql",
                "azdata_cell_guid": "49bcabc0-00f9-4d20-9d94-234fd19486eb"
            },
            "attachments": {}
        },
        {
            "cell_type": "code",
            "source": [
                "SELECT * from Employee WHERE Comm IS NULL;"
            ],
            "metadata": {
                "language": "sql",
                "azdata_cell_guid": "bec6181c-980f-4a53-b305-5413a0283309"
            },
            "outputs": [
                {
                    "output_type": "display_data",
                    "data": {
                        "text/html": "(4 rows affected)"
                    },
                    "metadata": {}
                },
                {
                    "output_type": "display_data",
                    "data": {
                        "text/html": "Total execution time: 00:00:00.046"
                    },
                    "metadata": {}
                },
                {
                    "output_type": "execute_result",
                    "execution_count": 29,
                    "data": {
                        "application/vnd.dataresource+json": {
                            "schema": {
                                "fields": [
                                    {
                                        "name": "Employee_id"
                                    },
                                    {
                                        "name": "Last_Name"
                                    },
                                    {
                                        "name": "First_Name"
                                    },
                                    {
                                        "name": "Middle_Name"
                                    },
                                    {
                                        "name": "Job_id"
                                    },
                                    {
                                        "name": "Manager_id"
                                    },
                                    {
                                        "name": "Hire_date"
                                    },
                                    {
                                        "name": "Salary"
                                    },
                                    {
                                        "name": "Comm"
                                    },
                                    {
                                        "name": "Department_id"
                                    }
                                ]
                            },
                            "data": [
                                {
                                    "0": "7369",
                                    "1": "Smith",
                                    "2": "John",
                                    "3": "Q",
                                    "4": "667",
                                    "5": "7902",
                                    "6": "1984-10-17",
                                    "7": "800",
                                    "8": "NULL",
                                    "9": "20"
                                },
                                {
                                    "0": "7505",
                                    "1": "Doyle",
                                    "2": "Jean",
                                    "3": "K",
                                    "4": "671",
                                    "5": "7839",
                                    "6": "1985-04-04",
                                    "7": "2850",
                                    "8": "NULL",
                                    "9": "30"
                                },
                                {
                                    "0": "7506",
                                    "1": "Dennis",
                                    "2": "Lynn",
                                    "3": "S",
                                    "4": "671",
                                    "5": "7839",
                                    "6": "1985-05-15",
                                    "7": "2750",
                                    "8": "NULL",
                                    "9": "30"
                                },
                                {
                                    "0": "7507",
                                    "1": "Baker",
                                    "2": "Leslie",
                                    "3": "D",
                                    "4": "671",
                                    "5": "7839",
                                    "6": "1985-06-10",
                                    "7": "2200",
                                    "8": "NULL",
                                    "9": "40"
                                }
                            ]
                        },
                        "text/html": "<table><tr><th>Employee_id</th><th>Last_Name</th><th>First_Name</th><th>Middle_Name</th><th>Job_id</th><th>Manager_id</th><th>Hire_date</th><th>Salary</th><th>Comm</th><th>Department_id</th></tr><tr><td>7369</td><td>Smith</td><td>John</td><td>Q</td><td>667</td><td>7902</td><td>1984-10-17</td><td>800</td><td>NULL</td><td>20</td></tr><tr><td>7505</td><td>Doyle</td><td>Jean</td><td>K</td><td>671</td><td>7839</td><td>1985-04-04</td><td>2850</td><td>NULL</td><td>30</td></tr><tr><td>7506</td><td>Dennis</td><td>Lynn</td><td>S</td><td>671</td><td>7839</td><td>1985-05-15</td><td>2750</td><td>NULL</td><td>30</td></tr><tr><td>7507</td><td>Baker</td><td>Leslie</td><td>D</td><td>671</td><td>7839</td><td>1985-06-10</td><td>2200</td><td>NULL</td><td>40</td></tr></table>"
                    },
                    "metadata": {}
                }
            ],
            "execution_count": 29
        },
        {
            "cell_type": "markdown",
            "source": [
                "**LIst out the employeeid, Lastname in ascending order based on the employeeid**"
            ],
            "metadata": {
                "language": "sql",
                "azdata_cell_guid": "a674b7cf-72f5-41a6-9caa-f7a140ddcbb9"
            },
            "attachments": {}
        },
        {
            "cell_type": "code",
            "source": [
                "SELECT Employee_id, Last_Name from Employee ORDER BY Employee_id ASC;"
            ],
            "metadata": {
                "language": "sql",
                "azdata_cell_guid": "daaa2050-378e-46f8-a73f-50d0965f4d58"
            },
            "outputs": [
                {
                    "output_type": "display_data",
                    "data": {
                        "text/html": "(6 rows affected)"
                    },
                    "metadata": {}
                },
                {
                    "output_type": "display_data",
                    "data": {
                        "text/html": "Total execution time: 00:00:00.002"
                    },
                    "metadata": {}
                },
                {
                    "output_type": "execute_result",
                    "execution_count": 30,
                    "data": {
                        "application/vnd.dataresource+json": {
                            "schema": {
                                "fields": [
                                    {
                                        "name": "Employee_id"
                                    },
                                    {
                                        "name": "Last_Name"
                                    }
                                ]
                            },
                            "data": [
                                {
                                    "0": "7369",
                                    "1": "Smith"
                                },
                                {
                                    "0": "7499",
                                    "1": "Allen"
                                },
                                {
                                    "0": "7505",
                                    "1": "Doyle"
                                },
                                {
                                    "0": "7506",
                                    "1": "Dennis"
                                },
                                {
                                    "0": "7507",
                                    "1": "Baker"
                                },
                                {
                                    "0": "7521",
                                    "1": "Wark"
                                }
                            ]
                        },
                        "text/html": "<table><tr><th>Employee_id</th><th>Last_Name</th></tr><tr><td>7369</td><td>Smith</td></tr><tr><td>7499</td><td>Allen</td></tr><tr><td>7505</td><td>Doyle</td></tr><tr><td>7506</td><td>Dennis</td></tr><tr><td>7507</td><td>Baker</td></tr><tr><td>7521</td><td>Wark</td></tr></table>"
                    },
                    "metadata": {}
                }
            ],
            "execution_count": 30
        },
        {
            "cell_type": "markdown",
            "source": [
                "**List out the employee id, Firstname, in descending order based on salary**"
            ],
            "metadata": {
                "language": "sql",
                "azdata_cell_guid": "6b46b862-a93b-4ebf-8227-21b2365e8883"
            },
            "attachments": {}
        },
        {
            "cell_type": "code",
            "source": [
                "SELECT Employee_id, First_Name, Salary from Employee ORDER BY Salary DESC;"
            ],
            "metadata": {
                "language": "sql",
                "azdata_cell_guid": "478687b3-f833-46a2-93e8-0f8164d9454a"
            },
            "outputs": [
                {
                    "output_type": "display_data",
                    "data": {
                        "text/html": "(6 rows affected)"
                    },
                    "metadata": {}
                },
                {
                    "output_type": "display_data",
                    "data": {
                        "text/html": "Total execution time: 00:00:00.002"
                    },
                    "metadata": {}
                },
                {
                    "output_type": "execute_result",
                    "execution_count": 31,
                    "data": {
                        "application/vnd.dataresource+json": {
                            "schema": {
                                "fields": [
                                    {
                                        "name": "Employee_id"
                                    },
                                    {
                                        "name": "First_Name"
                                    },
                                    {
                                        "name": "Salary"
                                    }
                                ]
                            },
                            "data": [
                                {
                                    "0": "7505",
                                    "1": "Jean",
                                    "2": "2850"
                                },
                                {
                                    "0": "7506",
                                    "1": "Lynn",
                                    "2": "2750"
                                },
                                {
                                    "0": "7507",
                                    "1": "Leslie",
                                    "2": "2200"
                                },
                                {
                                    "0": "7499",
                                    "1": "Kevin",
                                    "2": "1600"
                                },
                                {
                                    "0": "7521",
                                    "1": "Cynthia",
                                    "2": "1250"
                                },
                                {
                                    "0": "7369",
                                    "1": "John",
                                    "2": "800"
                                }
                            ]
                        },
                        "text/html": "<table><tr><th>Employee_id</th><th>First_Name</th><th>Salary</th></tr><tr><td>7505</td><td>Jean</td><td>2850</td></tr><tr><td>7506</td><td>Lynn</td><td>2750</td></tr><tr><td>7507</td><td>Leslie</td><td>2200</td></tr><tr><td>7499</td><td>Kevin</td><td>1600</td></tr><tr><td>7521</td><td>Cynthia</td><td>1250</td></tr><tr><td>7369</td><td>John</td><td>800</td></tr></table>"
                    },
                    "metadata": {}
                }
            ],
            "execution_count": 31
        },
        {
            "cell_type": "markdown",
            "source": [
                "**list out the employee details according to their last name in ascending order**"
            ],
            "metadata": {
                "language": "sql",
                "azdata_cell_guid": "0fb4b04c-8dba-4595-8348-7d52f426980f"
            },
            "attachments": {}
        },
        {
            "cell_type": "code",
            "source": [
                "SELECT * from Employee ORDER BY Last_Name ASC;\n",
                ""
            ],
            "metadata": {
                "language": "sql",
                "azdata_cell_guid": "0be77e3b-9e10-43fa-8c4b-ca4818ecd06b"
            },
            "outputs": [
                {
                    "output_type": "display_data",
                    "data": {
                        "text/html": "(6 rows affected)"
                    },
                    "metadata": {}
                },
                {
                    "output_type": "display_data",
                    "data": {
                        "text/html": "Total execution time: 00:00:00.003"
                    },
                    "metadata": {}
                },
                {
                    "output_type": "execute_result",
                    "execution_count": 32,
                    "data": {
                        "application/vnd.dataresource+json": {
                            "schema": {
                                "fields": [
                                    {
                                        "name": "Employee_id"
                                    },
                                    {
                                        "name": "Last_Name"
                                    },
                                    {
                                        "name": "First_Name"
                                    },
                                    {
                                        "name": "Middle_Name"
                                    },
                                    {
                                        "name": "Job_id"
                                    },
                                    {
                                        "name": "Manager_id"
                                    },
                                    {
                                        "name": "Hire_date"
                                    },
                                    {
                                        "name": "Salary"
                                    },
                                    {
                                        "name": "Comm"
                                    },
                                    {
                                        "name": "Department_id"
                                    }
                                ]
                            },
                            "data": [
                                {
                                    "0": "7499",
                                    "1": "Allen",
                                    "2": "Kevin",
                                    "3": "J",
                                    "4": "670",
                                    "5": "7698",
                                    "6": "1985-02-20",
                                    "7": "1600",
                                    "8": "300",
                                    "9": "30"
                                },
                                {
                                    "0": "7507",
                                    "1": "Baker",
                                    "2": "Leslie",
                                    "3": "D",
                                    "4": "671",
                                    "5": "7839",
                                    "6": "1985-06-10",
                                    "7": "2200",
                                    "8": "NULL",
                                    "9": "40"
                                },
                                {
                                    "0": "7506",
                                    "1": "Dennis",
                                    "2": "Lynn",
                                    "3": "S",
                                    "4": "671",
                                    "5": "7839",
                                    "6": "1985-05-15",
                                    "7": "2750",
                                    "8": "NULL",
                                    "9": "30"
                                },
                                {
                                    "0": "7505",
                                    "1": "Doyle",
                                    "2": "Jean",
                                    "3": "K",
                                    "4": "671",
                                    "5": "7839",
                                    "6": "1985-04-04",
                                    "7": "2850",
                                    "8": "NULL",
                                    "9": "30"
                                },
                                {
                                    "0": "7369",
                                    "1": "Smith",
                                    "2": "John",
                                    "3": "Q",
                                    "4": "667",
                                    "5": "7902",
                                    "6": "1984-10-17",
                                    "7": "800",
                                    "8": "NULL",
                                    "9": "20"
                                },
                                {
                                    "0": "7521",
                                    "1": "Wark",
                                    "2": "Cynthia",
                                    "3": "D",
                                    "4": "670",
                                    "5": "7698",
                                    "6": "1985-02-22",
                                    "7": "1250",
                                    "8": "500",
                                    "9": "30"
                                }
                            ]
                        },
                        "text/html": "<table><tr><th>Employee_id</th><th>Last_Name</th><th>First_Name</th><th>Middle_Name</th><th>Job_id</th><th>Manager_id</th><th>Hire_date</th><th>Salary</th><th>Comm</th><th>Department_id</th></tr><tr><td>7499</td><td>Allen</td><td>Kevin</td><td>J</td><td>670</td><td>7698</td><td>1985-02-20</td><td>1600</td><td>300</td><td>30</td></tr><tr><td>7507</td><td>Baker</td><td>Leslie</td><td>D</td><td>671</td><td>7839</td><td>1985-06-10</td><td>2200</td><td>NULL</td><td>40</td></tr><tr><td>7506</td><td>Dennis</td><td>Lynn</td><td>S</td><td>671</td><td>7839</td><td>1985-05-15</td><td>2750</td><td>NULL</td><td>30</td></tr><tr><td>7505</td><td>Doyle</td><td>Jean</td><td>K</td><td>671</td><td>7839</td><td>1985-04-04</td><td>2850</td><td>NULL</td><td>30</td></tr><tr><td>7369</td><td>Smith</td><td>John</td><td>Q</td><td>667</td><td>7902</td><td>1984-10-17</td><td>800</td><td>NULL</td><td>20</td></tr><tr><td>7521</td><td>Wark</td><td>Cynthia</td><td>D</td><td>670</td><td>7698</td><td>1985-02-22</td><td>1250</td><td>500</td><td>30</td></tr></table>"
                    },
                    "metadata": {}
                }
            ],
            "execution_count": 32
        },
        {
            "cell_type": "markdown",
            "source": [
                "**List out the employee details according to their lastname in ascending order and then on department id in descending order**"
            ],
            "metadata": {
                "language": "sql",
                "azdata_cell_guid": "22b5382a-0932-4a13-8661-09c61a079b5e"
            },
            "attachments": {}
        },
        {
            "cell_type": "code",
            "source": [
                "SELECT * from Employee ORDER BY Last_Name ASC;\n",
                "SELECT * from Employee ORDER BY Department_id DESC;"
            ],
            "metadata": {
                "language": "sql",
                "azdata_cell_guid": "e12ec7fc-a779-4199-90f7-144843f4771d"
            },
            "outputs": [
                {
                    "output_type": "display_data",
                    "data": {
                        "text/html": "(6 rows affected)"
                    },
                    "metadata": {}
                },
                {
                    "output_type": "display_data",
                    "data": {
                        "text/html": "(6 rows affected)"
                    },
                    "metadata": {}
                },
                {
                    "output_type": "display_data",
                    "data": {
                        "text/html": "Total execution time: 00:00:00.005"
                    },
                    "metadata": {}
                },
                {
                    "output_type": "execute_result",
                    "execution_count": 34,
                    "data": {
                        "application/vnd.dataresource+json": {
                            "schema": {
                                "fields": [
                                    {
                                        "name": "Employee_id"
                                    },
                                    {
                                        "name": "Last_Name"
                                    },
                                    {
                                        "name": "First_Name"
                                    },
                                    {
                                        "name": "Middle_Name"
                                    },
                                    {
                                        "name": "Job_id"
                                    },
                                    {
                                        "name": "Manager_id"
                                    },
                                    {
                                        "name": "Hire_date"
                                    },
                                    {
                                        "name": "Salary"
                                    },
                                    {
                                        "name": "Comm"
                                    },
                                    {
                                        "name": "Department_id"
                                    }
                                ]
                            },
                            "data": [
                                {
                                    "0": "7499",
                                    "1": "Allen",
                                    "2": "Kevin",
                                    "3": "J",
                                    "4": "670",
                                    "5": "7698",
                                    "6": "1985-02-20",
                                    "7": "1600",
                                    "8": "300",
                                    "9": "30"
                                },
                                {
                                    "0": "7507",
                                    "1": "Baker",
                                    "2": "Leslie",
                                    "3": "D",
                                    "4": "671",
                                    "5": "7839",
                                    "6": "1985-06-10",
                                    "7": "2200",
                                    "8": "NULL",
                                    "9": "40"
                                },
                                {
                                    "0": "7506",
                                    "1": "Dennis",
                                    "2": "Lynn",
                                    "3": "S",
                                    "4": "671",
                                    "5": "7839",
                                    "6": "1985-05-15",
                                    "7": "2750",
                                    "8": "NULL",
                                    "9": "30"
                                },
                                {
                                    "0": "7505",
                                    "1": "Doyle",
                                    "2": "Jean",
                                    "3": "K",
                                    "4": "671",
                                    "5": "7839",
                                    "6": "1985-04-04",
                                    "7": "2850",
                                    "8": "NULL",
                                    "9": "30"
                                },
                                {
                                    "0": "7369",
                                    "1": "Smith",
                                    "2": "John",
                                    "3": "Q",
                                    "4": "667",
                                    "5": "7902",
                                    "6": "1984-10-17",
                                    "7": "800",
                                    "8": "NULL",
                                    "9": "20"
                                },
                                {
                                    "0": "7521",
                                    "1": "Wark",
                                    "2": "Cynthia",
                                    "3": "D",
                                    "4": "670",
                                    "5": "7698",
                                    "6": "1985-02-22",
                                    "7": "1250",
                                    "8": "500",
                                    "9": "30"
                                }
                            ]
                        },
                        "text/html": "<table><tr><th>Employee_id</th><th>Last_Name</th><th>First_Name</th><th>Middle_Name</th><th>Job_id</th><th>Manager_id</th><th>Hire_date</th><th>Salary</th><th>Comm</th><th>Department_id</th></tr><tr><td>7499</td><td>Allen</td><td>Kevin</td><td>J</td><td>670</td><td>7698</td><td>1985-02-20</td><td>1600</td><td>300</td><td>30</td></tr><tr><td>7507</td><td>Baker</td><td>Leslie</td><td>D</td><td>671</td><td>7839</td><td>1985-06-10</td><td>2200</td><td>NULL</td><td>40</td></tr><tr><td>7506</td><td>Dennis</td><td>Lynn</td><td>S</td><td>671</td><td>7839</td><td>1985-05-15</td><td>2750</td><td>NULL</td><td>30</td></tr><tr><td>7505</td><td>Doyle</td><td>Jean</td><td>K</td><td>671</td><td>7839</td><td>1985-04-04</td><td>2850</td><td>NULL</td><td>30</td></tr><tr><td>7369</td><td>Smith</td><td>John</td><td>Q</td><td>667</td><td>7902</td><td>1984-10-17</td><td>800</td><td>NULL</td><td>20</td></tr><tr><td>7521</td><td>Wark</td><td>Cynthia</td><td>D</td><td>670</td><td>7698</td><td>1985-02-22</td><td>1250</td><td>500</td><td>30</td></tr></table>"
                    },
                    "metadata": {}
                },
                {
                    "output_type": "execute_result",
                    "execution_count": 34,
                    "data": {
                        "application/vnd.dataresource+json": {
                            "schema": {
                                "fields": [
                                    {
                                        "name": "Employee_id"
                                    },
                                    {
                                        "name": "Last_Name"
                                    },
                                    {
                                        "name": "First_Name"
                                    },
                                    {
                                        "name": "Middle_Name"
                                    },
                                    {
                                        "name": "Job_id"
                                    },
                                    {
                                        "name": "Manager_id"
                                    },
                                    {
                                        "name": "Hire_date"
                                    },
                                    {
                                        "name": "Salary"
                                    },
                                    {
                                        "name": "Comm"
                                    },
                                    {
                                        "name": "Department_id"
                                    }
                                ]
                            },
                            "data": [
                                {
                                    "0": "7507",
                                    "1": "Baker",
                                    "2": "Leslie",
                                    "3": "D",
                                    "4": "671",
                                    "5": "7839",
                                    "6": "1985-06-10",
                                    "7": "2200",
                                    "8": "NULL",
                                    "9": "40"
                                },
                                {
                                    "0": "7521",
                                    "1": "Wark",
                                    "2": "Cynthia",
                                    "3": "D",
                                    "4": "670",
                                    "5": "7698",
                                    "6": "1985-02-22",
                                    "7": "1250",
                                    "8": "500",
                                    "9": "30"
                                },
                                {
                                    "0": "7499",
                                    "1": "Allen",
                                    "2": "Kevin",
                                    "3": "J",
                                    "4": "670",
                                    "5": "7698",
                                    "6": "1985-02-20",
                                    "7": "1600",
                                    "8": "300",
                                    "9": "30"
                                },
                                {
                                    "0": "7505",
                                    "1": "Doyle",
                                    "2": "Jean",
                                    "3": "K",
                                    "4": "671",
                                    "5": "7839",
                                    "6": "1985-04-04",
                                    "7": "2850",
                                    "8": "NULL",
                                    "9": "30"
                                },
                                {
                                    "0": "7506",
                                    "1": "Dennis",
                                    "2": "Lynn",
                                    "3": "S",
                                    "4": "671",
                                    "5": "7839",
                                    "6": "1985-05-15",
                                    "7": "2750",
                                    "8": "NULL",
                                    "9": "30"
                                },
                                {
                                    "0": "7369",
                                    "1": "Smith",
                                    "2": "John",
                                    "3": "Q",
                                    "4": "667",
                                    "5": "7902",
                                    "6": "1984-10-17",
                                    "7": "800",
                                    "8": "NULL",
                                    "9": "20"
                                }
                            ]
                        },
                        "text/html": "<table><tr><th>Employee_id</th><th>Last_Name</th><th>First_Name</th><th>Middle_Name</th><th>Job_id</th><th>Manager_id</th><th>Hire_date</th><th>Salary</th><th>Comm</th><th>Department_id</th></tr><tr><td>7507</td><td>Baker</td><td>Leslie</td><td>D</td><td>671</td><td>7839</td><td>1985-06-10</td><td>2200</td><td>NULL</td><td>40</td></tr><tr><td>7521</td><td>Wark</td><td>Cynthia</td><td>D</td><td>670</td><td>7698</td><td>1985-02-22</td><td>1250</td><td>500</td><td>30</td></tr><tr><td>7499</td><td>Allen</td><td>Kevin</td><td>J</td><td>670</td><td>7698</td><td>1985-02-20</td><td>1600</td><td>300</td><td>30</td></tr><tr><td>7505</td><td>Doyle</td><td>Jean</td><td>K</td><td>671</td><td>7839</td><td>1985-04-04</td><td>2850</td><td>NULL</td><td>30</td></tr><tr><td>7506</td><td>Dennis</td><td>Lynn</td><td>S</td><td>671</td><td>7839</td><td>1985-05-15</td><td>2750</td><td>NULL</td><td>30</td></tr><tr><td>7369</td><td>Smith</td><td>John</td><td>Q</td><td>667</td><td>7902</td><td>1984-10-17</td><td>800</td><td>NULL</td><td>20</td></tr></table>"
                    },
                    "metadata": {}
                }
            ],
            "execution_count": 34
        },
        {
            "cell_type": "markdown",
            "source": [
                ""
            ],
            "metadata": {
                "language": "sql",
                "azdata_cell_guid": "330dbc42-de49-4812-8fb3-779d34a17f9c"
            }
        }
    ]
}