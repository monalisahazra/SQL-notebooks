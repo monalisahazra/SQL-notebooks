{
    "metadata": {
        "kernelspec": {
            "name": "SQL",
            "display_name": "SQL",
            "language": "sql"
        },
        "language_info": {
            "name": "sql",
            "version": ""
        }
    },
    "nbformat_minor": 2,
    "nbformat": 4,
    "cells": [
        {
            "cell_type": "markdown",
            "source": [
                "# SQL Exploration 2\n",
                "\n",
                "  \n",
                "\n",
                "* Developed by Monalisa Roy"
            ],
            "metadata": {
                "azdata_cell_guid": "d135e715-b83a-4ae6-a2ae-ac7531623780"
            },
            "attachments": {}
        },
        {
            "cell_type": "markdown",
            "source": [
                "## Creating database"
            ],
            "metadata": {
                "azdata_cell_guid": "d2890145-17bf-4077-a977-24cc2db1a027"
            },
            "attachments": {}
        },
        {
            "cell_type": "code",
            "source": [
                "Create database Office1;\n",
                ""
            ],
            "metadata": {
                "azdata_cell_guid": "992092cc-7df5-492a-b74f-cdb47308f536",
                "language": "sql"
            },
            "outputs": [
                {
                    "output_type": "display_data",
                    "data": {
                        "text/html": "Commands completed successfully."
                    },
                    "metadata": {}
                },
                {
                    "output_type": "display_data",
                    "data": {
                        "text/html": "Total execution time: 00:00:02.109"
                    },
                    "metadata": {}
                }
            ],
            "execution_count": 3
        },
        {
            "cell_type": "markdown",
            "source": [
                "##  Creating Employee Table and inserting values"
            ],
            "metadata": {
                "language": "sql",
                "azdata_cell_guid": "5aef0c71-13da-47dc-a2f4-b12fb2649d28"
            },
            "attachments": {}
        },
        {
            "cell_type": "code",
            "source": [
                "Use Office1;\n",
                "\n",
                "Create Table Employee(\n",
                "Employee_id int not null unique,\n",
                "First_name varchar(50) not null,\n",
                "Last_name varchar(20) not null,\n",
                "Salary int not null,\n",
                "Joining_date datetime,\n",
                "Department varchar(50),\n",
                "Primary key (Employee_id));\n",
                "\n",
                "\n",
                "\n",
                ""
            ],
            "metadata": {
                "azdata_cell_guid": "6bed2e6c-c695-4cc6-a5de-c3cdcf8641ae",
                "language": "sql"
            },
            "outputs": [
                {
                    "output_type": "display_data",
                    "data": {
                        "text/html": "Commands completed successfully."
                    },
                    "metadata": {}
                },
                {
                    "output_type": "display_data",
                    "data": {
                        "text/html": "Total execution time: 00:00:00.042"
                    },
                    "metadata": {}
                }
            ],
            "execution_count": 5
        },
        {
            "cell_type": "code",
            "source": [
                "Insert into Employee values(1, 'Anika', 'Arora', 100000, '2020-02-14 9:00:00', 'HR');\n",
                "Insert into Employee values(2, 'Veena', 'Verma', 80000, '2011-06-15 9:00:00', 'Admin');\n",
                "Insert into Employee values(3, 'Vishal', 'Singhal', 300000, '2020-02-16 9:00:00', 'HR');\n",
                "Insert into Employee values(4, 'Sushanth', 'Singh', 500000, '2020-02-17 9:00:00', 'Admin');\n",
                "Insert into Employee values(5, 'Bhupal', 'Bhati', 500000, '2011-06-18 9:00:00', 'Admin');\n",
                "Insert into Employee values(6, 'Dheeraj', 'Diwan', 200000, '2011-06-19 9:00:00', 'Account');\n",
                "Insert into Employee values(7, 'Karan', 'Kumar', 75000, '2020-01-14 9:00:00', 'Account');\n",
                "Insert into Employee values(8, 'Chandrika', 'Chauhan', 90000, '2011-04-15 9:00:00', 'Admin');\n",
                "\n",
                ""
            ],
            "metadata": {
                "language": "sql",
                "azdata_cell_guid": "6b595ffa-57cc-415d-992d-6bdc52903d89"
            },
            "outputs": [
                {
                    "output_type": "display_data",
                    "data": {
                        "text/html": "(1 row affected)"
                    },
                    "metadata": {}
                },
                {
                    "output_type": "display_data",
                    "data": {
                        "text/html": "(1 row affected)"
                    },
                    "metadata": {}
                },
                {
                    "output_type": "display_data",
                    "data": {
                        "text/html": "(1 row affected)"
                    },
                    "metadata": {}
                },
                {
                    "output_type": "display_data",
                    "data": {
                        "text/html": "(1 row affected)"
                    },
                    "metadata": {}
                },
                {
                    "output_type": "display_data",
                    "data": {
                        "text/html": "(1 row affected)"
                    },
                    "metadata": {}
                },
                {
                    "output_type": "display_data",
                    "data": {
                        "text/html": "(1 row affected)"
                    },
                    "metadata": {}
                },
                {
                    "output_type": "display_data",
                    "data": {
                        "text/html": "(1 row affected)"
                    },
                    "metadata": {}
                },
                {
                    "output_type": "display_data",
                    "data": {
                        "text/html": "(1 row affected)"
                    },
                    "metadata": {}
                },
                {
                    "output_type": "display_data",
                    "data": {
                        "text/html": "Total execution time: 00:00:00.422"
                    },
                    "metadata": {}
                }
            ],
            "execution_count": 11
        },
        {
            "cell_type": "code",
            "source": [
                "Select * from Employee;"
            ],
            "metadata": {
                "language": "sql",
                "azdata_cell_guid": "aff19b6b-1414-4c7d-9fb1-6be71f2aa51a"
            },
            "outputs": [
                {
                    "output_type": "display_data",
                    "data": {
                        "text/html": "(8 rows affected)"
                    },
                    "metadata": {}
                },
                {
                    "output_type": "display_data",
                    "data": {
                        "text/html": "Total execution time: 00:00:00.017"
                    },
                    "metadata": {}
                },
                {
                    "output_type": "execute_result",
                    "metadata": {},
                    "execution_count": 12,
                    "data": {
                        "application/vnd.dataresource+json": {
                            "schema": {
                                "fields": [
                                    {
                                        "name": "Employee_id"
                                    },
                                    {
                                        "name": "First_name"
                                    },
                                    {
                                        "name": "Last_name"
                                    },
                                    {
                                        "name": "Salary"
                                    },
                                    {
                                        "name": "Joining_date"
                                    },
                                    {
                                        "name": "Department"
                                    }
                                ]
                            },
                            "data": [
                                {
                                    "0": "1",
                                    "1": "Anika",
                                    "2": "Arora",
                                    "3": "100000",
                                    "4": "2020-02-14 09:00:00.000",
                                    "5": "HR"
                                },
                                {
                                    "0": "2",
                                    "1": "Veena",
                                    "2": "Verma",
                                    "3": "80000",
                                    "4": "2011-06-15 09:00:00.000",
                                    "5": "Admin"
                                },
                                {
                                    "0": "3",
                                    "1": "Vishal",
                                    "2": "Singhal",
                                    "3": "300000",
                                    "4": "2020-02-16 09:00:00.000",
                                    "5": "HR"
                                },
                                {
                                    "0": "4",
                                    "1": "Sushanth",
                                    "2": "Singh",
                                    "3": "500000",
                                    "4": "2020-02-17 09:00:00.000",
                                    "5": "Admin"
                                },
                                {
                                    "0": "5",
                                    "1": "Bhupal",
                                    "2": "Bhati",
                                    "3": "500000",
                                    "4": "2011-06-18 09:00:00.000",
                                    "5": "Admin"
                                },
                                {
                                    "0": "6",
                                    "1": "Dheeraj",
                                    "2": "Diwan",
                                    "3": "200000",
                                    "4": "2011-06-19 09:00:00.000",
                                    "5": "Account"
                                },
                                {
                                    "0": "7",
                                    "1": "Karan",
                                    "2": "Kumar",
                                    "3": "75000",
                                    "4": "2020-01-14 09:00:00.000",
                                    "5": "Account"
                                },
                                {
                                    "0": "8",
                                    "1": "Chandrika",
                                    "2": "Chauhan",
                                    "3": "90000",
                                    "4": "2011-04-15 09:00:00.000",
                                    "5": "Admin"
                                }
                            ]
                        },
                        "text/html": [
                            "<table>",
                            "<tr><th>Employee_id</th><th>First_name</th><th>Last_name</th><th>Salary</th><th>Joining_date</th><th>Department</th></tr>",
                            "<tr><td>1</td><td>Anika</td><td>Arora</td><td>100000</td><td>2020-02-14 09:00:00.000</td><td>HR</td></tr>",
                            "<tr><td>2</td><td>Veena</td><td>Verma</td><td>80000</td><td>2011-06-15 09:00:00.000</td><td>Admin</td></tr>",
                            "<tr><td>3</td><td>Vishal</td><td>Singhal</td><td>300000</td><td>2020-02-16 09:00:00.000</td><td>HR</td></tr>",
                            "<tr><td>4</td><td>Sushanth</td><td>Singh</td><td>500000</td><td>2020-02-17 09:00:00.000</td><td>Admin</td></tr>",
                            "<tr><td>5</td><td>Bhupal</td><td>Bhati</td><td>500000</td><td>2011-06-18 09:00:00.000</td><td>Admin</td></tr>",
                            "<tr><td>6</td><td>Dheeraj</td><td>Diwan</td><td>200000</td><td>2011-06-19 09:00:00.000</td><td>Account</td></tr>",
                            "<tr><td>7</td><td>Karan</td><td>Kumar</td><td>75000</td><td>2020-01-14 09:00:00.000</td><td>Account</td></tr>",
                            "<tr><td>8</td><td>Chandrika</td><td>Chauhan</td><td>90000</td><td>2011-04-15 09:00:00.000</td><td>Admin</td></tr>",
                            "</table>"
                        ]
                    }
                }
            ],
            "execution_count": 12
        },
        {
            "cell_type": "markdown",
            "source": [
                "## Creating  Employee Title Table and inserting values"
            ],
            "metadata": {
                "language": "sql",
                "azdata_cell_guid": "40df7bf4-fb01-40e9-8ac6-f6ad3437ba41"
            },
            "attachments": {}
        },
        {
            "cell_type": "code",
            "source": [
                "Use Office1;\n",
                "Create Table Employee_Title(\n",
                "Employee_ref_id int not null,\n",
                "Employee_title varchar(100),\n",
                "Affective_Date datetime);\n",
                "\n",
                "Insert into Employee_Title values(\n",
                "1, 'Manager', '2016-02-20 0:00:00');\n",
                "Insert into Employee_Title values(\n",
                "2, 'Executive', '2016-06-11 0:00:00');\n",
                "Insert into Employee_Title values(\n",
                "8, 'Executive', '2016-06-11 0:00:00');\n",
                "Insert into Employee_Title values(\n",
                "5, 'Manager', '2016-06-11 0:00:00');\n",
                "Insert into Employee_Title values(\n",
                "4, 'Asst.Manager', '2016-06-11 0:00:00');\n",
                "Insert into Employee_Title values(\n",
                "7, 'Executive', '2016-06-11 0:00:00');\n",
                "Insert into Employee_Title values(\n",
                "6, 'Lead', '2016-06-11 0:00:00');\n",
                "Insert into Employee_Title values(\n",
                "3, 'Lead', '2016-06-11 0:00:00');\n",
                "\n",
                "Select * from Employee_Title;\n",
                "\n",
                "\n",
                "\n",
                "\n",
                ""
            ],
            "metadata": {
                "language": "sql",
                "azdata_cell_guid": "c76139c5-c0c8-42c2-830f-4269fd5e071c"
            },
            "outputs": [
                {
                    "output_type": "display_data",
                    "data": {
                        "text/html": "(1 row affected)"
                    },
                    "metadata": {}
                },
                {
                    "output_type": "display_data",
                    "data": {
                        "text/html": "(1 row affected)"
                    },
                    "metadata": {}
                },
                {
                    "output_type": "display_data",
                    "data": {
                        "text/html": "(1 row affected)"
                    },
                    "metadata": {}
                },
                {
                    "output_type": "display_data",
                    "data": {
                        "text/html": "(1 row affected)"
                    },
                    "metadata": {}
                },
                {
                    "output_type": "display_data",
                    "data": {
                        "text/html": "(1 row affected)"
                    },
                    "metadata": {}
                },
                {
                    "output_type": "display_data",
                    "data": {
                        "text/html": "(1 row affected)"
                    },
                    "metadata": {}
                },
                {
                    "output_type": "display_data",
                    "data": {
                        "text/html": "(1 row affected)"
                    },
                    "metadata": {}
                },
                {
                    "output_type": "display_data",
                    "data": {
                        "text/html": "(1 row affected)"
                    },
                    "metadata": {}
                },
                {
                    "output_type": "display_data",
                    "data": {
                        "text/html": "(8 rows affected)"
                    },
                    "metadata": {}
                },
                {
                    "output_type": "display_data",
                    "data": {
                        "text/html": "Total execution time: 00:00:00.342"
                    },
                    "metadata": {}
                },
                {
                    "output_type": "execute_result",
                    "metadata": {},
                    "execution_count": 14,
                    "data": {
                        "application/vnd.dataresource+json": {
                            "schema": {
                                "fields": [
                                    {
                                        "name": "Employee_ref_id"
                                    },
                                    {
                                        "name": "Employee_title"
                                    },
                                    {
                                        "name": "Affective_Date"
                                    }
                                ]
                            },
                            "data": [
                                {
                                    "0": "1",
                                    "1": "Manager",
                                    "2": "2016-02-20 00:00:00.000"
                                },
                                {
                                    "0": "2",
                                    "1": "Executive",
                                    "2": "2016-06-11 00:00:00.000"
                                },
                                {
                                    "0": "8",
                                    "1": "Executive",
                                    "2": "2016-06-11 00:00:00.000"
                                },
                                {
                                    "0": "5",
                                    "1": "Manager",
                                    "2": "2016-06-11 00:00:00.000"
                                },
                                {
                                    "0": "4",
                                    "1": "Asst.Manager",
                                    "2": "2016-06-11 00:00:00.000"
                                },
                                {
                                    "0": "7",
                                    "1": "Executive",
                                    "2": "2016-06-11 00:00:00.000"
                                },
                                {
                                    "0": "6",
                                    "1": "Lead",
                                    "2": "2016-06-11 00:00:00.000"
                                },
                                {
                                    "0": "3",
                                    "1": "Lead",
                                    "2": "2016-06-11 00:00:00.000"
                                }
                            ]
                        },
                        "text/html": [
                            "<table>",
                            "<tr><th>Employee_ref_id</th><th>Employee_title</th><th>Affective_Date</th></tr>",
                            "<tr><td>1</td><td>Manager</td><td>2016-02-20 00:00:00.000</td></tr>",
                            "<tr><td>2</td><td>Executive</td><td>2016-06-11 00:00:00.000</td></tr>",
                            "<tr><td>8</td><td>Executive</td><td>2016-06-11 00:00:00.000</td></tr>",
                            "<tr><td>5</td><td>Manager</td><td>2016-06-11 00:00:00.000</td></tr>",
                            "<tr><td>4</td><td>Asst.Manager</td><td>2016-06-11 00:00:00.000</td></tr>",
                            "<tr><td>7</td><td>Executive</td><td>2016-06-11 00:00:00.000</td></tr>",
                            "<tr><td>6</td><td>Lead</td><td>2016-06-11 00:00:00.000</td></tr>",
                            "<tr><td>3</td><td>Lead</td><td>2016-06-11 00:00:00.000</td></tr>",
                            "</table>"
                        ]
                    }
                }
            ],
            "execution_count": 14
        },
        {
            "cell_type": "markdown",
            "source": [
                "##  Creating Employee Bonus Table and inserting values"
            ],
            "metadata": {
                "azdata_cell_guid": "9273d62f-4887-4ad7-8159-0d90b8b8bed1"
            },
            "attachments": {}
        },
        {
            "cell_type": "code",
            "source": [
                "Use Office1;\n",
                "Create Table Employee_Bonus(\n",
                "Employee_ref_id int not null,\n",
                "Bonus_Amount int not null,\n",
                "Bonus_Date datetime,\n",
                "Foreign key (Employee_ref_id) references Employee (Employee_id));\n",
                "\n",
                "\n",
                "Insert into Employee_Bonus values(\n",
                "1, 5000, '2020-02-16 0:00:00' );\n",
                "Insert into Employee_Bonus values(\n",
                "2, 3000, '2011-06-16 0:00:00' );\n",
                "Insert into Employee_Bonus values(\n",
                "3, 4000, '2020-02-16 0:00:00' );\n",
                "Insert into Employee_Bonus values(\n",
                "1, 4500, '2020-02-16 0:00:00' );\n",
                "Insert into Employee_Bonus values(\n",
                "2, 3500, '2011-06-16 0:00:00' );\n",
                "\n",
                "Select * from Employee_Bonus;\n",
                "\n",
                ""
            ],
            "metadata": {
                "azdata_cell_guid": "7f918580-cbfc-41ff-8c21-3ba97994ecf5",
                "language": "sql"
            },
            "outputs": [
                {
                    "output_type": "display_data",
                    "data": {
                        "text/html": "(1 row affected)"
                    },
                    "metadata": {}
                },
                {
                    "output_type": "display_data",
                    "data": {
                        "text/html": "(1 row affected)"
                    },
                    "metadata": {}
                },
                {
                    "output_type": "display_data",
                    "data": {
                        "text/html": "(1 row affected)"
                    },
                    "metadata": {}
                },
                {
                    "output_type": "display_data",
                    "data": {
                        "text/html": "(1 row affected)"
                    },
                    "metadata": {}
                },
                {
                    "output_type": "display_data",
                    "data": {
                        "text/html": "(1 row affected)"
                    },
                    "metadata": {}
                },
                {
                    "output_type": "display_data",
                    "data": {
                        "text/html": "(5 rows affected)"
                    },
                    "metadata": {}
                },
                {
                    "output_type": "display_data",
                    "data": {
                        "text/html": "Total execution time: 00:00:00.294"
                    },
                    "metadata": {}
                },
                {
                    "output_type": "execute_result",
                    "metadata": {},
                    "execution_count": 15,
                    "data": {
                        "application/vnd.dataresource+json": {
                            "schema": {
                                "fields": [
                                    {
                                        "name": "Employee_ref_id"
                                    },
                                    {
                                        "name": "Bonus_Amount"
                                    },
                                    {
                                        "name": "Bonus_Date"
                                    }
                                ]
                            },
                            "data": [
                                {
                                    "0": "1",
                                    "1": "5000",
                                    "2": "2020-02-16 00:00:00.000"
                                },
                                {
                                    "0": "2",
                                    "1": "3000",
                                    "2": "2011-06-16 00:00:00.000"
                                },
                                {
                                    "0": "3",
                                    "1": "4000",
                                    "2": "2020-02-16 00:00:00.000"
                                },
                                {
                                    "0": "1",
                                    "1": "4500",
                                    "2": "2020-02-16 00:00:00.000"
                                },
                                {
                                    "0": "2",
                                    "1": "3500",
                                    "2": "2011-06-16 00:00:00.000"
                                }
                            ]
                        },
                        "text/html": [
                            "<table>",
                            "<tr><th>Employee_ref_id</th><th>Bonus_Amount</th><th>Bonus_Date</th></tr>",
                            "<tr><td>1</td><td>5000</td><td>2020-02-16 00:00:00.000</td></tr>",
                            "<tr><td>2</td><td>3000</td><td>2011-06-16 00:00:00.000</td></tr>",
                            "<tr><td>3</td><td>4000</td><td>2020-02-16 00:00:00.000</td></tr>",
                            "<tr><td>1</td><td>4500</td><td>2020-02-16 00:00:00.000</td></tr>",
                            "<tr><td>2</td><td>3500</td><td>2011-06-16 00:00:00.000</td></tr>",
                            "</table>"
                        ]
                    }
                }
            ],
            "execution_count": 15
        },
        {
            "cell_type": "markdown",
            "source": [
                "##  SQL Queries"
            ],
            "metadata": {
                "azdata_cell_guid": "a416110a-b0b4-4c4c-8426-e7b10231fe7e"
            },
            "attachments": {}
        },
        {
            "cell_type": "markdown",
            "source": [
                "###  Displaying  the “FIRST\\_NAME” from Employee table using the alias name as Employee\\_name."
            ],
            "metadata": {
                "azdata_cell_guid": "539dc8cd-2876-4fb7-a1c9-9b1c7c75a6d2"
            },
            "attachments": {}
        },
        {
            "cell_type": "code",
            "source": [
                "Select First_name as Employee_name\n",
                "from Employee;"
            ],
            "metadata": {
                "azdata_cell_guid": "7a360e8a-ad03-4582-b3c5-9107956af129",
                "language": "sql"
            },
            "outputs": [
                {
                    "output_type": "display_data",
                    "data": {
                        "text/html": "(8 rows affected)"
                    },
                    "metadata": {}
                },
                {
                    "output_type": "display_data",
                    "data": {
                        "text/html": "Total execution time: 00:00:00.003"
                    },
                    "metadata": {}
                },
                {
                    "output_type": "execute_result",
                    "metadata": {},
                    "execution_count": 16,
                    "data": {
                        "application/vnd.dataresource+json": {
                            "schema": {
                                "fields": [
                                    {
                                        "name": "Employee_name"
                                    }
                                ]
                            },
                            "data": [
                                {
                                    "0": "Anika"
                                },
                                {
                                    "0": "Veena"
                                },
                                {
                                    "0": "Vishal"
                                },
                                {
                                    "0": "Sushanth"
                                },
                                {
                                    "0": "Bhupal"
                                },
                                {
                                    "0": "Dheeraj"
                                },
                                {
                                    "0": "Karan"
                                },
                                {
                                    "0": "Chandrika"
                                }
                            ]
                        },
                        "text/html": [
                            "<table>",
                            "<tr><th>Employee_name</th></tr>",
                            "<tr><td>Anika</td></tr>",
                            "<tr><td>Veena</td></tr>",
                            "<tr><td>Vishal</td></tr>",
                            "<tr><td>Sushanth</td></tr>",
                            "<tr><td>Bhupal</td></tr>",
                            "<tr><td>Dheeraj</td></tr>",
                            "<tr><td>Karan</td></tr>",
                            "<tr><td>Chandrika</td></tr>",
                            "</table>"
                        ]
                    }
                }
            ],
            "execution_count": 16
        },
        {
            "cell_type": "markdown",
            "source": [
                "###   Displaying  “LAST\\_NAME” from Employee table in upper case."
            ],
            "metadata": {
                "language": "sql",
                "azdata_cell_guid": "e184177c-cf87-498d-ab44-2db162f38539"
            },
            "attachments": {}
        },
        {
            "cell_type": "code",
            "source": [
                "Select Upper (Last_name) as Last_name from Employee;"
            ],
            "metadata": {
                "azdata_cell_guid": "3ae2dec9-a28f-44c1-9f87-b4ec3259b6d3",
                "language": "sql"
            },
            "outputs": [
                {
                    "output_type": "display_data",
                    "data": {
                        "text/html": "(8 rows affected)"
                    },
                    "metadata": {}
                },
                {
                    "output_type": "display_data",
                    "data": {
                        "text/html": "Total execution time: 00:00:00.002"
                    },
                    "metadata": {}
                },
                {
                    "output_type": "execute_result",
                    "metadata": {},
                    "execution_count": 17,
                    "data": {
                        "application/vnd.dataresource+json": {
                            "schema": {
                                "fields": [
                                    {
                                        "name": "Last_name"
                                    }
                                ]
                            },
                            "data": [
                                {
                                    "0": "ARORA"
                                },
                                {
                                    "0": "VERMA"
                                },
                                {
                                    "0": "SINGHAL"
                                },
                                {
                                    "0": "SINGH"
                                },
                                {
                                    "0": "BHATI"
                                },
                                {
                                    "0": "DIWAN"
                                },
                                {
                                    "0": "KUMAR"
                                },
                                {
                                    "0": "CHAUHAN"
                                }
                            ]
                        },
                        "text/html": [
                            "<table>",
                            "<tr><th>Last_name</th></tr>",
                            "<tr><td>ARORA</td></tr>",
                            "<tr><td>VERMA</td></tr>",
                            "<tr><td>SINGHAL</td></tr>",
                            "<tr><td>SINGH</td></tr>",
                            "<tr><td>BHATI</td></tr>",
                            "<tr><td>DIWAN</td></tr>",
                            "<tr><td>KUMAR</td></tr>",
                            "<tr><td>CHAUHAN</td></tr>",
                            "</table>"
                        ]
                    }
                }
            ],
            "execution_count": 17
        },
        {
            "cell_type": "markdown",
            "source": [
                "###  Displaying  unique values of DEPARTMENT from EMPLOYEE table."
            ],
            "metadata": {
                "language": "sql",
                "azdata_cell_guid": "51c72623-672c-464d-902b-93c53103acff"
            },
            "attachments": {}
        },
        {
            "cell_type": "code",
            "source": [
                "Select Distinct (Department) from Employee;"
            ],
            "metadata": {
                "azdata_cell_guid": "d59584b6-9670-4219-abbc-23dec3fb58e4",
                "language": "sql"
            },
            "outputs": [
                {
                    "output_type": "display_data",
                    "data": {
                        "text/html": "(3 rows affected)"
                    },
                    "metadata": {}
                },
                {
                    "output_type": "display_data",
                    "data": {
                        "text/html": "Total execution time: 00:00:00.047"
                    },
                    "metadata": {}
                },
                {
                    "output_type": "execute_result",
                    "metadata": {},
                    "execution_count": 18,
                    "data": {
                        "application/vnd.dataresource+json": {
                            "schema": {
                                "fields": [
                                    {
                                        "name": "Department"
                                    }
                                ]
                            },
                            "data": [
                                {
                                    "0": "Account"
                                },
                                {
                                    "0": "Admin"
                                },
                                {
                                    "0": "HR"
                                }
                            ]
                        },
                        "text/html": [
                            "<table>",
                            "<tr><th>Department</th></tr>",
                            "<tr><td>Account</td></tr>",
                            "<tr><td>Admin</td></tr>",
                            "<tr><td>HR</td></tr>",
                            "</table>"
                        ]
                    }
                }
            ],
            "execution_count": 18
        },
        {
            "cell_type": "markdown",
            "source": [
                "###  Display the first three characters of LAST\\_NAME from EMPLOYEE table."
            ],
            "metadata": {
                "language": "sql",
                "azdata_cell_guid": "8efd6ff2-d04e-4e84-be0e-4f65f691ffce"
            },
            "attachments": {}
        },
        {
            "cell_type": "code",
            "source": [
                "Select left (Last_name,3) from Employee;"
            ],
            "metadata": {
                "language": "sql",
                "azdata_cell_guid": "291d6734-ca1a-4eb2-90f7-600d47d7b3a8"
            },
            "outputs": [
                {
                    "output_type": "display_data",
                    "data": {
                        "text/html": "(8 rows affected)"
                    },
                    "metadata": {}
                },
                {
                    "output_type": "display_data",
                    "data": {
                        "text/html": "Total execution time: 00:00:00.023"
                    },
                    "metadata": {}
                },
                {
                    "output_type": "execute_result",
                    "metadata": {},
                    "execution_count": 19,
                    "data": {
                        "application/vnd.dataresource+json": {
                            "schema": {
                                "fields": [
                                    {
                                        "name": "(No column name)"
                                    }
                                ]
                            },
                            "data": [
                                {
                                    "0": "Aro"
                                },
                                {
                                    "0": "Ver"
                                },
                                {
                                    "0": "Sin"
                                },
                                {
                                    "0": "Sin"
                                },
                                {
                                    "0": "Bha"
                                },
                                {
                                    "0": "Diw"
                                },
                                {
                                    "0": "Kum"
                                },
                                {
                                    "0": "Cha"
                                }
                            ]
                        },
                        "text/html": [
                            "<table>",
                            "<tr><th>(No column name)</th></tr>",
                            "<tr><td>Aro</td></tr>",
                            "<tr><td>Ver</td></tr>",
                            "<tr><td>Sin</td></tr>",
                            "<tr><td>Sin</td></tr>",
                            "<tr><td>Bha</td></tr>",
                            "<tr><td>Diw</td></tr>",
                            "<tr><td>Kum</td></tr>",
                            "<tr><td>Cha</td></tr>",
                            "</table>"
                        ]
                    }
                }
            ],
            "execution_count": 19
        },
        {
            "cell_type": "markdown",
            "source": [
                "###"
            ],
            "metadata": {
                "language": "sql",
                "azdata_cell_guid": "cb2c3c03-bfd8-4fa6-8670-163b912a7c8b"
            },
            "attachments": {}
        },
        {
            "cell_type": "markdown",
            "source": [
                "###  Display the unique values of DEPARTMENT from EMPLOYEE table and print its length"
            ],
            "metadata": {
                "language": "sql",
                "azdata_cell_guid": "d742e872-e3f9-409c-bd47-f89788137207"
            },
            "attachments": {}
        },
        {
            "cell_type": "code",
            "source": [
                "Select Distinct (Department),\n",
                "LEN(Department) from Employee;\n",
                "/* IN mySQL LEN should be used as Length*/"
            ],
            "metadata": {
                "language": "sql",
                "azdata_cell_guid": "dc9cd01c-72ef-4526-a8ac-2c567a130975"
            },
            "outputs": [
                {
                    "output_type": "display_data",
                    "data": {
                        "text/html": "(3 rows affected)"
                    },
                    "metadata": {}
                },
                {
                    "output_type": "display_data",
                    "data": {
                        "text/html": "Total execution time: 00:00:00.003"
                    },
                    "metadata": {}
                },
                {
                    "output_type": "execute_result",
                    "metadata": {},
                    "execution_count": 24,
                    "data": {
                        "application/vnd.dataresource+json": {
                            "schema": {
                                "fields": [
                                    {
                                        "name": "Department"
                                    },
                                    {
                                        "name": "(No column name)"
                                    }
                                ]
                            },
                            "data": [
                                {
                                    "0": "Account",
                                    "1": "7"
                                },
                                {
                                    "0": "Admin",
                                    "1": "5"
                                },
                                {
                                    "0": "HR",
                                    "1": "2"
                                }
                            ]
                        },
                        "text/html": [
                            "<table>",
                            "<tr><th>Department</th><th>(No column name)</th></tr>",
                            "<tr><td>Account</td><td>7</td></tr>",
                            "<tr><td>Admin</td><td>5</td></tr>",
                            "<tr><td>HR</td><td>2</td></tr>",
                            "</table>"
                        ]
                    }
                }
            ],
            "execution_count": 24
        },
        {
            "cell_type": "markdown",
            "source": [
                "###  \n",
                "\n",
                "###"
            ],
            "metadata": {
                "language": "sql",
                "azdata_cell_guid": "28801488-1f08-45ba-bea8-5e20567801b7"
            },
            "attachments": {}
        },
        {
            "cell_type": "markdown",
            "source": [
                ""
            ],
            "metadata": {
                "language": "sql",
                "azdata_cell_guid": "caeceac4-10c3-4091-ab19-30c77b1bcee8"
            }
        },
        {
            "cell_type": "markdown",
            "source": [
                "###  Display the FIRST\\_NAME and LAST\\_NAME from EMPLOYEE table into a single column AS FULL\\_NAME."
            ],
            "metadata": {
                "language": "sql",
                "azdata_cell_guid": "3ace73b8-0ff3-411b-acd2-0f62b88e884d"
            },
            "attachments": {}
        },
        {
            "cell_type": "code",
            "source": [
                "Select CONCAT (First_name,' ',Last_name) As Full_Name from Employee;"
            ],
            "metadata": {
                "language": "sql",
                "azdata_cell_guid": "603c72f5-3243-4720-83c5-f50a85a1460c"
            },
            "outputs": [
                {
                    "output_type": "display_data",
                    "data": {
                        "text/html": "(8 rows affected)"
                    },
                    "metadata": {}
                },
                {
                    "output_type": "display_data",
                    "data": {
                        "text/html": "Total execution time: 00:00:00.002"
                    },
                    "metadata": {}
                },
                {
                    "output_type": "execute_result",
                    "metadata": {},
                    "execution_count": 30,
                    "data": {
                        "application/vnd.dataresource+json": {
                            "schema": {
                                "fields": [
                                    {
                                        "name": "Full_Name"
                                    }
                                ]
                            },
                            "data": [
                                {
                                    "0": "Anika Arora"
                                },
                                {
                                    "0": "Veena Verma"
                                },
                                {
                                    "0": "Vishal Singhal"
                                },
                                {
                                    "0": "Sushanth Singh"
                                },
                                {
                                    "0": "Bhupal Bhati"
                                },
                                {
                                    "0": "Dheeraj Diwan"
                                },
                                {
                                    "0": "Karan Kumar"
                                },
                                {
                                    "0": "Chandrika Chauhan"
                                }
                            ]
                        },
                        "text/html": [
                            "<table>",
                            "<tr><th>Full_Name</th></tr>",
                            "<tr><td>Anika Arora</td></tr>",
                            "<tr><td>Veena Verma</td></tr>",
                            "<tr><td>Vishal Singhal</td></tr>",
                            "<tr><td>Sushanth Singh</td></tr>",
                            "<tr><td>Bhupal Bhati</td></tr>",
                            "<tr><td>Dheeraj Diwan</td></tr>",
                            "<tr><td>Karan Kumar</td></tr>",
                            "<tr><td>Chandrika Chauhan</td></tr>",
                            "</table>"
                        ]
                    }
                }
            ],
            "execution_count": 30
        },
        {
            "cell_type": "markdown",
            "source": [
                "###  DISPLAY all EMPLOYEE details from the employee table order by FIRST\\_NAME Ascending."
            ],
            "metadata": {
                "language": "sql",
                "azdata_cell_guid": "be68b90a-3f66-4eb1-860b-2953e053f178"
            },
            "attachments": {}
        },
        {
            "cell_type": "code",
            "source": [
                "SElect * from Employee Order by First_name Asc;"
            ],
            "metadata": {
                "language": "sql",
                "azdata_cell_guid": "8a08a5fb-5f2b-45ad-a23f-498d0141f8b2"
            },
            "outputs": [
                {
                    "output_type": "display_data",
                    "data": {
                        "text/html": "(8 rows affected)"
                    },
                    "metadata": {}
                },
                {
                    "output_type": "display_data",
                    "data": {
                        "text/html": "Total execution time: 00:00:00.004"
                    },
                    "metadata": {}
                },
                {
                    "output_type": "execute_result",
                    "metadata": {},
                    "execution_count": 31,
                    "data": {
                        "application/vnd.dataresource+json": {
                            "schema": {
                                "fields": [
                                    {
                                        "name": "Employee_id"
                                    },
                                    {
                                        "name": "First_name"
                                    },
                                    {
                                        "name": "Last_name"
                                    },
                                    {
                                        "name": "Salary"
                                    },
                                    {
                                        "name": "Joining_date"
                                    },
                                    {
                                        "name": "Department"
                                    }
                                ]
                            },
                            "data": [
                                {
                                    "0": "1",
                                    "1": "Anika",
                                    "2": "Arora",
                                    "3": "100000",
                                    "4": "2020-02-14 09:00:00.000",
                                    "5": "HR"
                                },
                                {
                                    "0": "5",
                                    "1": "Bhupal",
                                    "2": "Bhati",
                                    "3": "500000",
                                    "4": "2011-06-18 09:00:00.000",
                                    "5": "Admin"
                                },
                                {
                                    "0": "8",
                                    "1": "Chandrika",
                                    "2": "Chauhan",
                                    "3": "90000",
                                    "4": "2011-04-15 09:00:00.000",
                                    "5": "Admin"
                                },
                                {
                                    "0": "6",
                                    "1": "Dheeraj",
                                    "2": "Diwan",
                                    "3": "200000",
                                    "4": "2011-06-19 09:00:00.000",
                                    "5": "Account"
                                },
                                {
                                    "0": "7",
                                    "1": "Karan",
                                    "2": "Kumar",
                                    "3": "75000",
                                    "4": "2020-01-14 09:00:00.000",
                                    "5": "Account"
                                },
                                {
                                    "0": "4",
                                    "1": "Sushanth",
                                    "2": "Singh",
                                    "3": "500000",
                                    "4": "2020-02-17 09:00:00.000",
                                    "5": "Admin"
                                },
                                {
                                    "0": "2",
                                    "1": "Veena",
                                    "2": "Verma",
                                    "3": "80000",
                                    "4": "2011-06-15 09:00:00.000",
                                    "5": "Admin"
                                },
                                {
                                    "0": "3",
                                    "1": "Vishal",
                                    "2": "Singhal",
                                    "3": "300000",
                                    "4": "2020-02-16 09:00:00.000",
                                    "5": "HR"
                                }
                            ]
                        },
                        "text/html": [
                            "<table>",
                            "<tr><th>Employee_id</th><th>First_name</th><th>Last_name</th><th>Salary</th><th>Joining_date</th><th>Department</th></tr>",
                            "<tr><td>1</td><td>Anika</td><td>Arora</td><td>100000</td><td>2020-02-14 09:00:00.000</td><td>HR</td></tr>",
                            "<tr><td>5</td><td>Bhupal</td><td>Bhati</td><td>500000</td><td>2011-06-18 09:00:00.000</td><td>Admin</td></tr>",
                            "<tr><td>8</td><td>Chandrika</td><td>Chauhan</td><td>90000</td><td>2011-04-15 09:00:00.000</td><td>Admin</td></tr>",
                            "<tr><td>6</td><td>Dheeraj</td><td>Diwan</td><td>200000</td><td>2011-06-19 09:00:00.000</td><td>Account</td></tr>",
                            "<tr><td>7</td><td>Karan</td><td>Kumar</td><td>75000</td><td>2020-01-14 09:00:00.000</td><td>Account</td></tr>",
                            "<tr><td>4</td><td>Sushanth</td><td>Singh</td><td>500000</td><td>2020-02-17 09:00:00.000</td><td>Admin</td></tr>",
                            "<tr><td>2</td><td>Veena</td><td>Verma</td><td>80000</td><td>2011-06-15 09:00:00.000</td><td>Admin</td></tr>",
                            "<tr><td>3</td><td>Vishal</td><td>Singhal</td><td>300000</td><td>2020-02-16 09:00:00.000</td><td>HR</td></tr>",
                            "</table>"
                        ]
                    }
                }
            ],
            "execution_count": 31
        },
        {
            "cell_type": "markdown",
            "source": [
                "###  Display all EMPLOYEE details order by FIRST\\_NAME Ascending and DEPARTMENT Descending."
            ],
            "metadata": {
                "language": "sql",
                "azdata_cell_guid": "c61e4c45-2e50-4b52-a787-2f1777df9d16"
            },
            "attachments": {}
        },
        {
            "cell_type": "code",
            "source": [
                "Select * from Employee\n",
                "Order by First_name ASC, Department DESC;"
            ],
            "metadata": {
                "azdata_cell_guid": "3c23882a-b3bf-4e45-8173-578b97472a1e",
                "language": "sql"
            },
            "outputs": [
                {
                    "output_type": "display_data",
                    "data": {
                        "text/html": "(8 rows affected)"
                    },
                    "metadata": {}
                },
                {
                    "output_type": "display_data",
                    "data": {
                        "text/html": "Total execution time: 00:00:00.003"
                    },
                    "metadata": {}
                },
                {
                    "output_type": "execute_result",
                    "metadata": {},
                    "execution_count": 33,
                    "data": {
                        "application/vnd.dataresource+json": {
                            "schema": {
                                "fields": [
                                    {
                                        "name": "Employee_id"
                                    },
                                    {
                                        "name": "First_name"
                                    },
                                    {
                                        "name": "Last_name"
                                    },
                                    {
                                        "name": "Salary"
                                    },
                                    {
                                        "name": "Joining_date"
                                    },
                                    {
                                        "name": "Department"
                                    }
                                ]
                            },
                            "data": [
                                {
                                    "0": "1",
                                    "1": "Anika",
                                    "2": "Arora",
                                    "3": "100000",
                                    "4": "2020-02-14 09:00:00.000",
                                    "5": "HR"
                                },
                                {
                                    "0": "5",
                                    "1": "Bhupal",
                                    "2": "Bhati",
                                    "3": "500000",
                                    "4": "2011-06-18 09:00:00.000",
                                    "5": "Admin"
                                },
                                {
                                    "0": "8",
                                    "1": "Chandrika",
                                    "2": "Chauhan",
                                    "3": "90000",
                                    "4": "2011-04-15 09:00:00.000",
                                    "5": "Admin"
                                },
                                {
                                    "0": "6",
                                    "1": "Dheeraj",
                                    "2": "Diwan",
                                    "3": "200000",
                                    "4": "2011-06-19 09:00:00.000",
                                    "5": "Account"
                                },
                                {
                                    "0": "7",
                                    "1": "Karan",
                                    "2": "Kumar",
                                    "3": "75000",
                                    "4": "2020-01-14 09:00:00.000",
                                    "5": "Account"
                                },
                                {
                                    "0": "4",
                                    "1": "Sushanth",
                                    "2": "Singh",
                                    "3": "500000",
                                    "4": "2020-02-17 09:00:00.000",
                                    "5": "Admin"
                                },
                                {
                                    "0": "2",
                                    "1": "Veena",
                                    "2": "Verma",
                                    "3": "80000",
                                    "4": "2011-06-15 09:00:00.000",
                                    "5": "Admin"
                                },
                                {
                                    "0": "3",
                                    "1": "Vishal",
                                    "2": "Singhal",
                                    "3": "300000",
                                    "4": "2020-02-16 09:00:00.000",
                                    "5": "HR"
                                }
                            ]
                        },
                        "text/html": [
                            "<table>",
                            "<tr><th>Employee_id</th><th>First_name</th><th>Last_name</th><th>Salary</th><th>Joining_date</th><th>Department</th></tr>",
                            "<tr><td>1</td><td>Anika</td><td>Arora</td><td>100000</td><td>2020-02-14 09:00:00.000</td><td>HR</td></tr>",
                            "<tr><td>5</td><td>Bhupal</td><td>Bhati</td><td>500000</td><td>2011-06-18 09:00:00.000</td><td>Admin</td></tr>",
                            "<tr><td>8</td><td>Chandrika</td><td>Chauhan</td><td>90000</td><td>2011-04-15 09:00:00.000</td><td>Admin</td></tr>",
                            "<tr><td>6</td><td>Dheeraj</td><td>Diwan</td><td>200000</td><td>2011-06-19 09:00:00.000</td><td>Account</td></tr>",
                            "<tr><td>7</td><td>Karan</td><td>Kumar</td><td>75000</td><td>2020-01-14 09:00:00.000</td><td>Account</td></tr>",
                            "<tr><td>4</td><td>Sushanth</td><td>Singh</td><td>500000</td><td>2020-02-17 09:00:00.000</td><td>Admin</td></tr>",
                            "<tr><td>2</td><td>Veena</td><td>Verma</td><td>80000</td><td>2011-06-15 09:00:00.000</td><td>Admin</td></tr>",
                            "<tr><td>3</td><td>Vishal</td><td>Singhal</td><td>300000</td><td>2020-02-16 09:00:00.000</td><td>HR</td></tr>",
                            "</table>"
                        ]
                    }
                }
            ],
            "execution_count": 33
        },
        {
            "cell_type": "markdown",
            "source": [
                "###  Display details for EMPLOYEE with the first name as “VEENA” and “KARAN” from EMPLOYEE table."
            ],
            "metadata": {
                "language": "sql",
                "azdata_cell_guid": "e62b5a71-0378-44f9-9a62-299c028c4885"
            },
            "attachments": {}
        },
        {
            "cell_type": "code",
            "source": [
                "Select * from Employee\n",
                "Where First_name = 'Veena' Or  First_name = 'Karan';"
            ],
            "metadata": {
                "language": "sql",
                "azdata_cell_guid": "bbe9fb65-9a3b-4d08-b626-b501e1ff2213"
            },
            "outputs": [
                {
                    "output_type": "display_data",
                    "data": {
                        "text/html": "(2 rows affected)"
                    },
                    "metadata": {}
                },
                {
                    "output_type": "display_data",
                    "data": {
                        "text/html": "Total execution time: 00:00:00.048"
                    },
                    "metadata": {}
                },
                {
                    "output_type": "execute_result",
                    "metadata": {},
                    "execution_count": 34,
                    "data": {
                        "application/vnd.dataresource+json": {
                            "schema": {
                                "fields": [
                                    {
                                        "name": "Employee_id"
                                    },
                                    {
                                        "name": "First_name"
                                    },
                                    {
                                        "name": "Last_name"
                                    },
                                    {
                                        "name": "Salary"
                                    },
                                    {
                                        "name": "Joining_date"
                                    },
                                    {
                                        "name": "Department"
                                    }
                                ]
                            },
                            "data": [
                                {
                                    "0": "2",
                                    "1": "Veena",
                                    "2": "Verma",
                                    "3": "80000",
                                    "4": "2011-06-15 09:00:00.000",
                                    "5": "Admin"
                                },
                                {
                                    "0": "7",
                                    "1": "Karan",
                                    "2": "Kumar",
                                    "3": "75000",
                                    "4": "2020-01-14 09:00:00.000",
                                    "5": "Account"
                                }
                            ]
                        },
                        "text/html": [
                            "<table>",
                            "<tr><th>Employee_id</th><th>First_name</th><th>Last_name</th><th>Salary</th><th>Joining_date</th><th>Department</th></tr>",
                            "<tr><td>2</td><td>Veena</td><td>Verma</td><td>80000</td><td>2011-06-15 09:00:00.000</td><td>Admin</td></tr>",
                            "<tr><td>7</td><td>Karan</td><td>Kumar</td><td>75000</td><td>2020-01-14 09:00:00.000</td><td>Account</td></tr>",
                            "</table>"
                        ]
                    }
                }
            ],
            "execution_count": 34
        },
        {
            "cell_type": "markdown",
            "source": [
                "###  Display details of EMPLOYEE with DEPARTMENT name as “Admin”"
            ],
            "metadata": {
                "language": "sql",
                "azdata_cell_guid": "4ba7bf9d-d55f-4318-bd7a-887e641c1263"
            },
            "attachments": {}
        },
        {
            "cell_type": "code",
            "source": [
                "Select * from Employee \n",
                "Where Department = 'Admin';"
            ],
            "metadata": {
                "language": "sql",
                "azdata_cell_guid": "91137ec9-b5b7-4cc6-985e-6da4eade22e8"
            },
            "outputs": [
                {
                    "output_type": "display_data",
                    "data": {
                        "text/html": "(4 rows affected)"
                    },
                    "metadata": {}
                },
                {
                    "output_type": "display_data",
                    "data": {
                        "text/html": "Total execution time: 00:00:00.002"
                    },
                    "metadata": {}
                },
                {
                    "output_type": "execute_result",
                    "metadata": {},
                    "execution_count": 35,
                    "data": {
                        "application/vnd.dataresource+json": {
                            "schema": {
                                "fields": [
                                    {
                                        "name": "Employee_id"
                                    },
                                    {
                                        "name": "First_name"
                                    },
                                    {
                                        "name": "Last_name"
                                    },
                                    {
                                        "name": "Salary"
                                    },
                                    {
                                        "name": "Joining_date"
                                    },
                                    {
                                        "name": "Department"
                                    }
                                ]
                            },
                            "data": [
                                {
                                    "0": "2",
                                    "1": "Veena",
                                    "2": "Verma",
                                    "3": "80000",
                                    "4": "2011-06-15 09:00:00.000",
                                    "5": "Admin"
                                },
                                {
                                    "0": "4",
                                    "1": "Sushanth",
                                    "2": "Singh",
                                    "3": "500000",
                                    "4": "2020-02-17 09:00:00.000",
                                    "5": "Admin"
                                },
                                {
                                    "0": "5",
                                    "1": "Bhupal",
                                    "2": "Bhati",
                                    "3": "500000",
                                    "4": "2011-06-18 09:00:00.000",
                                    "5": "Admin"
                                },
                                {
                                    "0": "8",
                                    "1": "Chandrika",
                                    "2": "Chauhan",
                                    "3": "90000",
                                    "4": "2011-04-15 09:00:00.000",
                                    "5": "Admin"
                                }
                            ]
                        },
                        "text/html": [
                            "<table>",
                            "<tr><th>Employee_id</th><th>First_name</th><th>Last_name</th><th>Salary</th><th>Joining_date</th><th>Department</th></tr>",
                            "<tr><td>2</td><td>Veena</td><td>Verma</td><td>80000</td><td>2011-06-15 09:00:00.000</td><td>Admin</td></tr>",
                            "<tr><td>4</td><td>Sushanth</td><td>Singh</td><td>500000</td><td>2020-02-17 09:00:00.000</td><td>Admin</td></tr>",
                            "<tr><td>5</td><td>Bhupal</td><td>Bhati</td><td>500000</td><td>2011-06-18 09:00:00.000</td><td>Admin</td></tr>",
                            "<tr><td>8</td><td>Chandrika</td><td>Chauhan</td><td>90000</td><td>2011-04-15 09:00:00.000</td><td>Admin</td></tr>",
                            "</table>"
                        ]
                    }
                }
            ],
            "execution_count": 35
        },
        {
            "cell_type": "markdown",
            "source": [
                "###  DISPLAY details of the EMPLOYEES whose FIRST\\_NAME contains ‘V’."
            ],
            "metadata": {
                "language": "sql",
                "azdata_cell_guid": "a48f6e1e-dac7-4055-9d9a-678ea76c77dd"
            },
            "attachments": {}
        },
        {
            "cell_type": "code",
            "source": [
                "Select * from Employee\n",
                "Where First_name LIKE '%V%';"
            ],
            "metadata": {
                "language": "sql",
                "azdata_cell_guid": "877ad91c-183b-4ac6-b1a0-7e288c143c43"
            },
            "outputs": [
                {
                    "output_type": "display_data",
                    "data": {
                        "text/html": "(2 rows affected)"
                    },
                    "metadata": {}
                },
                {
                    "output_type": "display_data",
                    "data": {
                        "text/html": "Total execution time: 00:00:00.002"
                    },
                    "metadata": {}
                },
                {
                    "output_type": "execute_result",
                    "metadata": {},
                    "execution_count": 36,
                    "data": {
                        "application/vnd.dataresource+json": {
                            "schema": {
                                "fields": [
                                    {
                                        "name": "Employee_id"
                                    },
                                    {
                                        "name": "First_name"
                                    },
                                    {
                                        "name": "Last_name"
                                    },
                                    {
                                        "name": "Salary"
                                    },
                                    {
                                        "name": "Joining_date"
                                    },
                                    {
                                        "name": "Department"
                                    }
                                ]
                            },
                            "data": [
                                {
                                    "0": "2",
                                    "1": "Veena",
                                    "2": "Verma",
                                    "3": "80000",
                                    "4": "2011-06-15 09:00:00.000",
                                    "5": "Admin"
                                },
                                {
                                    "0": "3",
                                    "1": "Vishal",
                                    "2": "Singhal",
                                    "3": "300000",
                                    "4": "2020-02-16 09:00:00.000",
                                    "5": "HR"
                                }
                            ]
                        },
                        "text/html": [
                            "<table>",
                            "<tr><th>Employee_id</th><th>First_name</th><th>Last_name</th><th>Salary</th><th>Joining_date</th><th>Department</th></tr>",
                            "<tr><td>2</td><td>Veena</td><td>Verma</td><td>80000</td><td>2011-06-15 09:00:00.000</td><td>Admin</td></tr>",
                            "<tr><td>3</td><td>Vishal</td><td>Singhal</td><td>300000</td><td>2020-02-16 09:00:00.000</td><td>HR</td></tr>",
                            "</table>"
                        ]
                    }
                }
            ],
            "execution_count": 36
        },
        {
            "cell_type": "markdown",
            "source": [
                "###  DISPLAY details of the EMPLOYEES whose SALARY lies between 100000 and 500000."
            ],
            "metadata": {
                "azdata_cell_guid": "10c38912-0bd7-4787-ac89-7b5959f89171"
            },
            "attachments": {}
        },
        {
            "cell_type": "code",
            "source": [
                "Select * from Employee\n",
                "Where Salary BETWEEN 100000 AND 500000;"
            ],
            "metadata": {
                "azdata_cell_guid": "312eca88-b0b1-43de-9a85-8d9aeb05c559",
                "language": "sql"
            },
            "outputs": [
                {
                    "output_type": "display_data",
                    "data": {
                        "text/html": "(5 rows affected)"
                    },
                    "metadata": {}
                },
                {
                    "output_type": "display_data",
                    "data": {
                        "text/html": "Total execution time: 00:00:00.049"
                    },
                    "metadata": {}
                },
                {
                    "output_type": "execute_result",
                    "metadata": {},
                    "execution_count": 37,
                    "data": {
                        "application/vnd.dataresource+json": {
                            "schema": {
                                "fields": [
                                    {
                                        "name": "Employee_id"
                                    },
                                    {
                                        "name": "First_name"
                                    },
                                    {
                                        "name": "Last_name"
                                    },
                                    {
                                        "name": "Salary"
                                    },
                                    {
                                        "name": "Joining_date"
                                    },
                                    {
                                        "name": "Department"
                                    }
                                ]
                            },
                            "data": [
                                {
                                    "0": "1",
                                    "1": "Anika",
                                    "2": "Arora",
                                    "3": "100000",
                                    "4": "2020-02-14 09:00:00.000",
                                    "5": "HR"
                                },
                                {
                                    "0": "3",
                                    "1": "Vishal",
                                    "2": "Singhal",
                                    "3": "300000",
                                    "4": "2020-02-16 09:00:00.000",
                                    "5": "HR"
                                },
                                {
                                    "0": "4",
                                    "1": "Sushanth",
                                    "2": "Singh",
                                    "3": "500000",
                                    "4": "2020-02-17 09:00:00.000",
                                    "5": "Admin"
                                },
                                {
                                    "0": "5",
                                    "1": "Bhupal",
                                    "2": "Bhati",
                                    "3": "500000",
                                    "4": "2011-06-18 09:00:00.000",
                                    "5": "Admin"
                                },
                                {
                                    "0": "6",
                                    "1": "Dheeraj",
                                    "2": "Diwan",
                                    "3": "200000",
                                    "4": "2011-06-19 09:00:00.000",
                                    "5": "Account"
                                }
                            ]
                        },
                        "text/html": [
                            "<table>",
                            "<tr><th>Employee_id</th><th>First_name</th><th>Last_name</th><th>Salary</th><th>Joining_date</th><th>Department</th></tr>",
                            "<tr><td>1</td><td>Anika</td><td>Arora</td><td>100000</td><td>2020-02-14 09:00:00.000</td><td>HR</td></tr>",
                            "<tr><td>3</td><td>Vishal</td><td>Singhal</td><td>300000</td><td>2020-02-16 09:00:00.000</td><td>HR</td></tr>",
                            "<tr><td>4</td><td>Sushanth</td><td>Singh</td><td>500000</td><td>2020-02-17 09:00:00.000</td><td>Admin</td></tr>",
                            "<tr><td>5</td><td>Bhupal</td><td>Bhati</td><td>500000</td><td>2011-06-18 09:00:00.000</td><td>Admin</td></tr>",
                            "<tr><td>6</td><td>Dheeraj</td><td>Diwan</td><td>200000</td><td>2011-06-19 09:00:00.000</td><td>Account</td></tr>",
                            "</table>"
                        ]
                    }
                }
            ],
            "execution_count": 37
        },
        {
            "cell_type": "markdown",
            "source": [
                "###  Display details of the employees who have joined in Feb-2020."
            ],
            "metadata": {
                "language": "sql",
                "azdata_cell_guid": "e92c1d60-7e7c-48ac-a06d-c57c80fe51ac"
            },
            "attachments": {}
        },
        {
            "cell_type": "code",
            "source": [
                "Select * from Employee\n",
                "Where MONTH(Joining_date) = 2;\n",
                "/*MySQL Where Month(Joining_date) = 'February';*/"
            ],
            "metadata": {
                "language": "sql",
                "azdata_cell_guid": "1f76bf2c-1e91-4ae4-bfdd-049e841076a9"
            },
            "outputs": [
                {
                    "output_type": "display_data",
                    "data": {
                        "text/html": "(3 rows affected)"
                    },
                    "metadata": {}
                },
                {
                    "output_type": "display_data",
                    "data": {
                        "text/html": "Total execution time: 00:00:00.002"
                    },
                    "metadata": {}
                },
                {
                    "output_type": "execute_result",
                    "metadata": {},
                    "execution_count": 50,
                    "data": {
                        "application/vnd.dataresource+json": {
                            "schema": {
                                "fields": [
                                    {
                                        "name": "Employee_id"
                                    },
                                    {
                                        "name": "First_name"
                                    },
                                    {
                                        "name": "Last_name"
                                    },
                                    {
                                        "name": "Salary"
                                    },
                                    {
                                        "name": "Joining_date"
                                    },
                                    {
                                        "name": "Department"
                                    }
                                ]
                            },
                            "data": [
                                {
                                    "0": "1",
                                    "1": "Anika",
                                    "2": "Arora",
                                    "3": "100000",
                                    "4": "2020-02-14 09:00:00.000",
                                    "5": "HR"
                                },
                                {
                                    "0": "3",
                                    "1": "Vishal",
                                    "2": "Singhal",
                                    "3": "300000",
                                    "4": "2020-02-16 09:00:00.000",
                                    "5": "HR"
                                },
                                {
                                    "0": "4",
                                    "1": "Sushanth",
                                    "2": "Singh",
                                    "3": "500000",
                                    "4": "2020-02-17 09:00:00.000",
                                    "5": "Admin"
                                }
                            ]
                        },
                        "text/html": [
                            "<table>",
                            "<tr><th>Employee_id</th><th>First_name</th><th>Last_name</th><th>Salary</th><th>Joining_date</th><th>Department</th></tr>",
                            "<tr><td>1</td><td>Anika</td><td>Arora</td><td>100000</td><td>2020-02-14 09:00:00.000</td><td>HR</td></tr>",
                            "<tr><td>3</td><td>Vishal</td><td>Singhal</td><td>300000</td><td>2020-02-16 09:00:00.000</td><td>HR</td></tr>",
                            "<tr><td>4</td><td>Sushanth</td><td>Singh</td><td>500000</td><td>2020-02-17 09:00:00.000</td><td>Admin</td></tr>",
                            "</table>"
                        ]
                    }
                }
            ],
            "execution_count": 50
        },
        {
            "cell_type": "markdown",
            "source": [
                ""
            ],
            "metadata": {
                "azdata_cell_guid": "534b42ee-e8c2-4e13-8e31-fce79a87d024"
            }
        },
        {
            "cell_type": "markdown",
            "source": [
                "###  Display employee names with salaries \\>= 50000 and \\<= 100000."
            ],
            "metadata": {
                "language": "sql",
                "azdata_cell_guid": "b9c080d2-967c-4941-a4ca-52a4ce8c5b6d"
            },
            "attachments": {}
        },
        {
            "cell_type": "code",
            "source": [
                "Select * from Employee\n",
                "Where Salary>= 50000 AND Salary<=100000;"
            ],
            "metadata": {
                "language": "sql",
                "azdata_cell_guid": "fc5beffd-81ee-46bc-8e6a-7dd4ee21932c"
            },
            "outputs": [
                {
                    "output_type": "display_data",
                    "data": {
                        "text/html": "(4 rows affected)"
                    },
                    "metadata": {}
                },
                {
                    "output_type": "display_data",
                    "data": {
                        "text/html": "Total execution time: 00:00:00.001"
                    },
                    "metadata": {}
                },
                {
                    "output_type": "execute_result",
                    "metadata": {},
                    "execution_count": 46,
                    "data": {
                        "application/vnd.dataresource+json": {
                            "schema": {
                                "fields": [
                                    {
                                        "name": "Employee_id"
                                    },
                                    {
                                        "name": "First_name"
                                    },
                                    {
                                        "name": "Last_name"
                                    },
                                    {
                                        "name": "Salary"
                                    },
                                    {
                                        "name": "Joining_date"
                                    },
                                    {
                                        "name": "Department"
                                    }
                                ]
                            },
                            "data": [
                                {
                                    "0": "1",
                                    "1": "Anika",
                                    "2": "Arora",
                                    "3": "100000",
                                    "4": "2020-02-14 09:00:00.000",
                                    "5": "HR"
                                },
                                {
                                    "0": "2",
                                    "1": "Veena",
                                    "2": "Verma",
                                    "3": "80000",
                                    "4": "2011-06-15 09:00:00.000",
                                    "5": "Admin"
                                },
                                {
                                    "0": "7",
                                    "1": "Karan",
                                    "2": "Kumar",
                                    "3": "75000",
                                    "4": "2020-01-14 09:00:00.000",
                                    "5": "Account"
                                },
                                {
                                    "0": "8",
                                    "1": "Chandrika",
                                    "2": "Chauhan",
                                    "3": "90000",
                                    "4": "2011-04-15 09:00:00.000",
                                    "5": "Admin"
                                }
                            ]
                        },
                        "text/html": [
                            "<table>",
                            "<tr><th>Employee_id</th><th>First_name</th><th>Last_name</th><th>Salary</th><th>Joining_date</th><th>Department</th></tr>",
                            "<tr><td>1</td><td>Anika</td><td>Arora</td><td>100000</td><td>2020-02-14 09:00:00.000</td><td>HR</td></tr>",
                            "<tr><td>2</td><td>Veena</td><td>Verma</td><td>80000</td><td>2011-06-15 09:00:00.000</td><td>Admin</td></tr>",
                            "<tr><td>7</td><td>Karan</td><td>Kumar</td><td>75000</td><td>2020-01-14 09:00:00.000</td><td>Account</td></tr>",
                            "<tr><td>8</td><td>Chandrika</td><td>Chauhan</td><td>90000</td><td>2011-04-15 09:00:00.000</td><td>Admin</td></tr>",
                            "</table>"
                        ]
                    }
                }
            ],
            "execution_count": 46
        },
        {
            "cell_type": "markdown",
            "source": [
                "###  DISPLAY details of the EMPLOYEES who are also Managers."
            ],
            "metadata": {
                "azdata_cell_guid": "ad725e92-5d6d-4319-81c3-22ad4f71b262"
            },
            "attachments": {}
        },
        {
            "cell_type": "code",
            "source": [
                "Select Employee_id, First_name, Last_name, Salary, Joining_date, Department, Employee_ref_id, Employee_title FROM Employee\n",
                "INNER JOIN Employee_Title ON\n",
                "Employee_id = Employee_ref_id\n",
                "Where Employee_title = 'Manager';\n",
                "\n",
                "/* MySQL: Select Employee.Employee_id, Employee.First_name, Employee.Last_name, Employee.Salary, Employee.Joining_date, Employee.Department, Employee_Title.Employee_ref_id, Employee_Title.Employee_title\n",
                "FROM Employee\n",
                "INNER JOIN Employee_Title ON\n",
                "Employee.Employee_id = Employee_Title.Employee_ref_id\n",
                "Where Employee_title = 'Manager';*/"
            ],
            "metadata": {
                "language": "sql",
                "azdata_cell_guid": "133671e4-0b2e-4a6b-870e-e38ed7186e8e",
                "tags": []
            },
            "outputs": [
                {
                    "output_type": "display_data",
                    "data": {
                        "text/html": "(2 rows affected)"
                    },
                    "metadata": {}
                },
                {
                    "output_type": "display_data",
                    "data": {
                        "text/html": "Total execution time: 00:00:00.005"
                    },
                    "metadata": {}
                },
                {
                    "output_type": "execute_result",
                    "metadata": {},
                    "execution_count": 54,
                    "data": {
                        "application/vnd.dataresource+json": {
                            "schema": {
                                "fields": [
                                    {
                                        "name": "Employee_id"
                                    },
                                    {
                                        "name": "First_name"
                                    },
                                    {
                                        "name": "Last_name"
                                    },
                                    {
                                        "name": "Salary"
                                    },
                                    {
                                        "name": "Joining_date"
                                    },
                                    {
                                        "name": "Department"
                                    },
                                    {
                                        "name": "Employee_ref_id"
                                    },
                                    {
                                        "name": "Employee_title"
                                    }
                                ]
                            },
                            "data": [
                                {
                                    "0": "1",
                                    "1": "Anika",
                                    "2": "Arora",
                                    "3": "100000",
                                    "4": "2020-02-14 09:00:00.000",
                                    "5": "HR",
                                    "6": "1",
                                    "7": "Manager"
                                },
                                {
                                    "0": "5",
                                    "1": "Bhupal",
                                    "2": "Bhati",
                                    "3": "500000",
                                    "4": "2011-06-18 09:00:00.000",
                                    "5": "Admin",
                                    "6": "5",
                                    "7": "Manager"
                                }
                            ]
                        },
                        "text/html": [
                            "<table>",
                            "<tr><th>Employee_id</th><th>First_name</th><th>Last_name</th><th>Salary</th><th>Joining_date</th><th>Department</th><th>Employee_ref_id</th><th>Employee_title</th></tr>",
                            "<tr><td>1</td><td>Anika</td><td>Arora</td><td>100000</td><td>2020-02-14 09:00:00.000</td><td>HR</td><td>1</td><td>Manager</td></tr>",
                            "<tr><td>5</td><td>Bhupal</td><td>Bhati</td><td>500000</td><td>2011-06-18 09:00:00.000</td><td>Admin</td><td>5</td><td>Manager</td></tr>",
                            "</table>"
                        ]
                    }
                }
            ],
            "execution_count": 54
        },
        {
            "cell_type": "markdown",
            "source": [
                "### DISPLAY duplicate records having matching data in some fields of a table.\n",
                "\n",
                "####  <span style=\"color: rgb(0, 128, 0); font-family: &quot;Droid Sans Mono&quot;, monospace, monospace, &quot;Droid Sans Fallback&quot;; font-size: 12px; white-space: pre;\">Duplicate in salary field</span>"
            ],
            "metadata": {
                "language": "sql",
                "azdata_cell_guid": "12431439-59e2-43d8-8a65-3e3eb7ae403d"
            },
            "attachments": {}
        },
        {
            "cell_type": "code",
            "source": [
                "Select First_name, Last_name, Salary from Employee\n",
                "Where Salary in(\n",
                "Select Salary from Employee Group by Salary Having count(*)>1 );"
            ],
            "metadata": {
                "language": "sql",
                "azdata_cell_guid": "bbca79c6-0dac-4593-8844-cf4e80bd0e53"
            },
            "outputs": [
                {
                    "output_type": "display_data",
                    "data": {
                        "text/html": "(2 rows affected)"
                    },
                    "metadata": {}
                },
                {
                    "output_type": "display_data",
                    "data": {
                        "text/html": "Total execution time: 00:00:00.073"
                    },
                    "metadata": {}
                },
                {
                    "output_type": "execute_result",
                    "metadata": {},
                    "execution_count": 55,
                    "data": {
                        "application/vnd.dataresource+json": {
                            "schema": {
                                "fields": [
                                    {
                                        "name": "First_name"
                                    },
                                    {
                                        "name": "Last_name"
                                    },
                                    {
                                        "name": "Salary"
                                    }
                                ]
                            },
                            "data": [
                                {
                                    "0": "Sushanth",
                                    "1": "Singh",
                                    "2": "500000"
                                },
                                {
                                    "0": "Bhupal",
                                    "1": "Bhati",
                                    "2": "500000"
                                }
                            ]
                        },
                        "text/html": [
                            "<table>",
                            "<tr><th>First_name</th><th>Last_name</th><th>Salary</th></tr>",
                            "<tr><td>Sushanth</td><td>Singh</td><td>500000</td></tr>",
                            "<tr><td>Bhupal</td><td>Bhati</td><td>500000</td></tr>",
                            "</table>"
                        ]
                    }
                }
            ],
            "execution_count": 55
        },
        {
            "cell_type": "markdown",
            "source": [
                "####  <span style=\"color: rgb(0, 128, 0); font-family: &quot;Droid Sans Mono&quot;, monospace, monospace, &quot;Droid Sans Fallback&quot;; font-size: 12px; white-space: pre;\">Duplicate in department field</span>"
            ],
            "metadata": {
                "language": "sql",
                "azdata_cell_guid": "3f61a88a-5dd2-4978-b542-b77033a967e9"
            },
            "attachments": {}
        },
        {
            "cell_type": "code",
            "source": [
                "Select Employee_id,First_name, Last_name, Department from Employee \n",
                "Where Department in(\n",
                "Select Department from Employee Group by Department Having count(*)>1) order by Department;"
            ],
            "metadata": {
                "language": "sql",
                "azdata_cell_guid": "eaa48cd0-8963-4b55-bef0-4075cc2df003"
            },
            "outputs": [
                {
                    "output_type": "display_data",
                    "data": {
                        "text/html": "(8 rows affected)"
                    },
                    "metadata": {}
                },
                {
                    "output_type": "display_data",
                    "data": {
                        "text/html": "Total execution time: 00:00:00.005"
                    },
                    "metadata": {}
                },
                {
                    "output_type": "execute_result",
                    "metadata": {},
                    "execution_count": 56,
                    "data": {
                        "application/vnd.dataresource+json": {
                            "schema": {
                                "fields": [
                                    {
                                        "name": "Employee_id"
                                    },
                                    {
                                        "name": "First_name"
                                    },
                                    {
                                        "name": "Last_name"
                                    },
                                    {
                                        "name": "Department"
                                    }
                                ]
                            },
                            "data": [
                                {
                                    "0": "6",
                                    "1": "Dheeraj",
                                    "2": "Diwan",
                                    "3": "Account"
                                },
                                {
                                    "0": "7",
                                    "1": "Karan",
                                    "2": "Kumar",
                                    "3": "Account"
                                },
                                {
                                    "0": "8",
                                    "1": "Chandrika",
                                    "2": "Chauhan",
                                    "3": "Admin"
                                },
                                {
                                    "0": "2",
                                    "1": "Veena",
                                    "2": "Verma",
                                    "3": "Admin"
                                },
                                {
                                    "0": "4",
                                    "1": "Sushanth",
                                    "2": "Singh",
                                    "3": "Admin"
                                },
                                {
                                    "0": "5",
                                    "1": "Bhupal",
                                    "2": "Bhati",
                                    "3": "Admin"
                                },
                                {
                                    "0": "3",
                                    "1": "Vishal",
                                    "2": "Singhal",
                                    "3": "HR"
                                },
                                {
                                    "0": "1",
                                    "1": "Anika",
                                    "2": "Arora",
                                    "3": "HR"
                                }
                            ]
                        },
                        "text/html": [
                            "<table>",
                            "<tr><th>Employee_id</th><th>First_name</th><th>Last_name</th><th>Department</th></tr>",
                            "<tr><td>6</td><td>Dheeraj</td><td>Diwan</td><td>Account</td></tr>",
                            "<tr><td>7</td><td>Karan</td><td>Kumar</td><td>Account</td></tr>",
                            "<tr><td>8</td><td>Chandrika</td><td>Chauhan</td><td>Admin</td></tr>",
                            "<tr><td>2</td><td>Veena</td><td>Verma</td><td>Admin</td></tr>",
                            "<tr><td>4</td><td>Sushanth</td><td>Singh</td><td>Admin</td></tr>",
                            "<tr><td>5</td><td>Bhupal</td><td>Bhati</td><td>Admin</td></tr>",
                            "<tr><td>3</td><td>Vishal</td><td>Singhal</td><td>HR</td></tr>",
                            "<tr><td>1</td><td>Anika</td><td>Arora</td><td>HR</td></tr>",
                            "</table>"
                        ]
                    }
                }
            ],
            "execution_count": 56
        },
        {
            "cell_type": "markdown",
            "source": [
                "####  <span style=\"color: rgb(0, 128, 0); font-family: &quot;Droid Sans Mono&quot;, monospace, monospace, &quot;Droid Sans Fallback&quot;; font-size: 12px; white-space: pre;\">Duplicate in joining date field</span>"
            ],
            "metadata": {
                "language": "sql",
                "azdata_cell_guid": "66f38d9c-e26f-46d1-8c33-c0f20df4d19a"
            },
            "attachments": {}
        },
        {
            "cell_type": "code",
            "source": [
                "Select Employee_id,First_name, Last_name, Joining_date from Employee \n",
                "Where Joining_date in(\n",
                "Select Joining_date from Employee Group by Joining_date Having count(*)>1);"
            ],
            "metadata": {
                "language": "sql",
                "azdata_cell_guid": "cae5143f-5dd0-454a-b867-0371b0ccc5c2"
            },
            "outputs": [
                {
                    "output_type": "display_data",
                    "data": {
                        "text/html": "(0 rows affected)"
                    },
                    "metadata": {}
                },
                {
                    "output_type": "display_data",
                    "data": {
                        "text/html": "Total execution time: 00:00:00.042"
                    },
                    "metadata": {}
                },
                {
                    "output_type": "execute_result",
                    "metadata": {},
                    "execution_count": 57,
                    "data": {
                        "application/vnd.dataresource+json": {
                            "schema": {
                                "fields": [
                                    {
                                        "name": "Employee_id"
                                    },
                                    {
                                        "name": "First_name"
                                    },
                                    {
                                        "name": "Last_name"
                                    },
                                    {
                                        "name": "Joining_date"
                                    }
                                ]
                            },
                            "data": []
                        },
                        "text/html": [
                            "<table>",
                            "<tr><th>Employee_id</th><th>First_name</th><th>Last_name</th><th>Joining_date</th></tr>",
                            "</table>"
                        ]
                    }
                }
            ],
            "execution_count": 57
        },
        {
            "cell_type": "markdown",
            "source": [
                "###  Display only odd rows from a table."
            ],
            "metadata": {
                "language": "sql",
                "azdata_cell_guid": "a51be1b7-a4f6-497b-a077-258dd6d258b1"
            },
            "attachments": {}
        },
        {
            "cell_type": "code",
            "source": [
                "Select * from Employee\n",
                "Where (Employee_id%2) = 1;\n",
                "\n",
                "/*MySQL: Select * from Employee\n",
                "Where mod (Employee_id,2) = 1;*/"
            ],
            "metadata": {
                "language": "sql",
                "azdata_cell_guid": "dc694c41-1b5f-4aea-8cef-82f20e90f318",
                "tags": []
            },
            "outputs": [
                {
                    "output_type": "display_data",
                    "data": {
                        "text/html": "(4 rows affected)"
                    },
                    "metadata": {}
                },
                {
                    "output_type": "display_data",
                    "data": {
                        "text/html": "Total execution time: 00:00:00.004"
                    },
                    "metadata": {}
                },
                {
                    "output_type": "execute_result",
                    "metadata": {},
                    "execution_count": 62,
                    "data": {
                        "application/vnd.dataresource+json": {
                            "schema": {
                                "fields": [
                                    {
                                        "name": "Employee_id"
                                    },
                                    {
                                        "name": "First_name"
                                    },
                                    {
                                        "name": "Last_name"
                                    },
                                    {
                                        "name": "Salary"
                                    },
                                    {
                                        "name": "Joining_date"
                                    },
                                    {
                                        "name": "Department"
                                    }
                                ]
                            },
                            "data": [
                                {
                                    "0": "1",
                                    "1": "Anika",
                                    "2": "Arora",
                                    "3": "100000",
                                    "4": "2020-02-14 09:00:00.000",
                                    "5": "HR"
                                },
                                {
                                    "0": "3",
                                    "1": "Vishal",
                                    "2": "Singhal",
                                    "3": "300000",
                                    "4": "2020-02-16 09:00:00.000",
                                    "5": "HR"
                                },
                                {
                                    "0": "5",
                                    "1": "Bhupal",
                                    "2": "Bhati",
                                    "3": "500000",
                                    "4": "2011-06-18 09:00:00.000",
                                    "5": "Admin"
                                },
                                {
                                    "0": "7",
                                    "1": "Karan",
                                    "2": "Kumar",
                                    "3": "75000",
                                    "4": "2020-01-14 09:00:00.000",
                                    "5": "Account"
                                }
                            ]
                        },
                        "text/html": [
                            "<table>",
                            "<tr><th>Employee_id</th><th>First_name</th><th>Last_name</th><th>Salary</th><th>Joining_date</th><th>Department</th></tr>",
                            "<tr><td>1</td><td>Anika</td><td>Arora</td><td>100000</td><td>2020-02-14 09:00:00.000</td><td>HR</td></tr>",
                            "<tr><td>3</td><td>Vishal</td><td>Singhal</td><td>300000</td><td>2020-02-16 09:00:00.000</td><td>HR</td></tr>",
                            "<tr><td>5</td><td>Bhupal</td><td>Bhati</td><td>500000</td><td>2011-06-18 09:00:00.000</td><td>Admin</td></tr>",
                            "<tr><td>7</td><td>Karan</td><td>Kumar</td><td>75000</td><td>2020-01-14 09:00:00.000</td><td>Account</td></tr>",
                            "</table>"
                        ]
                    }
                }
            ],
            "execution_count": 62
        },
        {
            "cell_type": "markdown",
            "source": [
                "###  Clone a new table from EMPLOYEE table."
            ],
            "metadata": {
                "language": "sql",
                "azdata_cell_guid": "53fea320-a0de-4291-8e02-33b8b810a573"
            },
            "attachments": {}
        },
        {
            "cell_type": "code",
            "source": [
                "Select *\n",
                "INTO Employee_New\n",
                "from Employee;\n",
                "\n",
                "Select * from Employee;\n",
                "Select * from Employee_New;\n",
                "\n",
                "/*MySQL: Create table Employee_New LIKE Employee;\n",
                "Insert into Employee_New\n",
                "Select * from Employee;\n",
                "Select * from Employee_New;*/"
            ],
            "metadata": {
                "language": "sql",
                "azdata_cell_guid": "b5314247-b8a1-4b6f-9f47-f8ab255cfe13"
            },
            "outputs": [
                {
                    "output_type": "display_data",
                    "data": {
                        "text/html": "(8 rows affected)"
                    },
                    "metadata": {}
                },
                {
                    "output_type": "display_data",
                    "data": {
                        "text/html": "(8 rows affected)"
                    },
                    "metadata": {}
                },
                {
                    "output_type": "display_data",
                    "data": {
                        "text/html": "(8 rows affected)"
                    },
                    "metadata": {}
                },
                {
                    "output_type": "display_data",
                    "data": {
                        "text/html": "Total execution time: 00:00:00.115"
                    },
                    "metadata": {}
                },
                {
                    "output_type": "execute_result",
                    "metadata": {},
                    "execution_count": 69,
                    "data": {
                        "application/vnd.dataresource+json": {
                            "schema": {
                                "fields": [
                                    {
                                        "name": "Employee_id"
                                    },
                                    {
                                        "name": "First_name"
                                    },
                                    {
                                        "name": "Last_name"
                                    },
                                    {
                                        "name": "Salary"
                                    },
                                    {
                                        "name": "Joining_date"
                                    },
                                    {
                                        "name": "Department"
                                    }
                                ]
                            },
                            "data": [
                                {
                                    "0": "1",
                                    "1": "Anika",
                                    "2": "Arora",
                                    "3": "100000",
                                    "4": "2020-02-14 09:00:00.000",
                                    "5": "HR"
                                },
                                {
                                    "0": "2",
                                    "1": "Veena",
                                    "2": "Verma",
                                    "3": "80000",
                                    "4": "2011-06-15 09:00:00.000",
                                    "5": "Admin"
                                },
                                {
                                    "0": "3",
                                    "1": "Vishal",
                                    "2": "Singhal",
                                    "3": "300000",
                                    "4": "2020-02-16 09:00:00.000",
                                    "5": "HR"
                                },
                                {
                                    "0": "4",
                                    "1": "Sushanth",
                                    "2": "Singh",
                                    "3": "500000",
                                    "4": "2020-02-17 09:00:00.000",
                                    "5": "Admin"
                                },
                                {
                                    "0": "5",
                                    "1": "Bhupal",
                                    "2": "Bhati",
                                    "3": "500000",
                                    "4": "2011-06-18 09:00:00.000",
                                    "5": "Admin"
                                },
                                {
                                    "0": "6",
                                    "1": "Dheeraj",
                                    "2": "Diwan",
                                    "3": "200000",
                                    "4": "2011-06-19 09:00:00.000",
                                    "5": "Account"
                                },
                                {
                                    "0": "7",
                                    "1": "Karan",
                                    "2": "Kumar",
                                    "3": "75000",
                                    "4": "2020-01-14 09:00:00.000",
                                    "5": "Account"
                                },
                                {
                                    "0": "8",
                                    "1": "Chandrika",
                                    "2": "Chauhan",
                                    "3": "90000",
                                    "4": "2011-04-15 09:00:00.000",
                                    "5": "Admin"
                                }
                            ]
                        },
                        "text/html": [
                            "<table>",
                            "<tr><th>Employee_id</th><th>First_name</th><th>Last_name</th><th>Salary</th><th>Joining_date</th><th>Department</th></tr>",
                            "<tr><td>1</td><td>Anika</td><td>Arora</td><td>100000</td><td>2020-02-14 09:00:00.000</td><td>HR</td></tr>",
                            "<tr><td>2</td><td>Veena</td><td>Verma</td><td>80000</td><td>2011-06-15 09:00:00.000</td><td>Admin</td></tr>",
                            "<tr><td>3</td><td>Vishal</td><td>Singhal</td><td>300000</td><td>2020-02-16 09:00:00.000</td><td>HR</td></tr>",
                            "<tr><td>4</td><td>Sushanth</td><td>Singh</td><td>500000</td><td>2020-02-17 09:00:00.000</td><td>Admin</td></tr>",
                            "<tr><td>5</td><td>Bhupal</td><td>Bhati</td><td>500000</td><td>2011-06-18 09:00:00.000</td><td>Admin</td></tr>",
                            "<tr><td>6</td><td>Dheeraj</td><td>Diwan</td><td>200000</td><td>2011-06-19 09:00:00.000</td><td>Account</td></tr>",
                            "<tr><td>7</td><td>Karan</td><td>Kumar</td><td>75000</td><td>2020-01-14 09:00:00.000</td><td>Account</td></tr>",
                            "<tr><td>8</td><td>Chandrika</td><td>Chauhan</td><td>90000</td><td>2011-04-15 09:00:00.000</td><td>Admin</td></tr>",
                            "</table>"
                        ]
                    }
                },
                {
                    "output_type": "execute_result",
                    "metadata": {},
                    "execution_count": 69,
                    "data": {
                        "application/vnd.dataresource+json": {
                            "schema": {
                                "fields": [
                                    {
                                        "name": "Employee_id"
                                    },
                                    {
                                        "name": "First_name"
                                    },
                                    {
                                        "name": "Last_name"
                                    },
                                    {
                                        "name": "Salary"
                                    },
                                    {
                                        "name": "Joining_date"
                                    },
                                    {
                                        "name": "Department"
                                    }
                                ]
                            },
                            "data": [
                                {
                                    "0": "1",
                                    "1": "Anika",
                                    "2": "Arora",
                                    "3": "100000",
                                    "4": "2020-02-14 09:00:00.000",
                                    "5": "HR"
                                },
                                {
                                    "0": "2",
                                    "1": "Veena",
                                    "2": "Verma",
                                    "3": "80000",
                                    "4": "2011-06-15 09:00:00.000",
                                    "5": "Admin"
                                },
                                {
                                    "0": "3",
                                    "1": "Vishal",
                                    "2": "Singhal",
                                    "3": "300000",
                                    "4": "2020-02-16 09:00:00.000",
                                    "5": "HR"
                                },
                                {
                                    "0": "4",
                                    "1": "Sushanth",
                                    "2": "Singh",
                                    "3": "500000",
                                    "4": "2020-02-17 09:00:00.000",
                                    "5": "Admin"
                                },
                                {
                                    "0": "5",
                                    "1": "Bhupal",
                                    "2": "Bhati",
                                    "3": "500000",
                                    "4": "2011-06-18 09:00:00.000",
                                    "5": "Admin"
                                },
                                {
                                    "0": "6",
                                    "1": "Dheeraj",
                                    "2": "Diwan",
                                    "3": "200000",
                                    "4": "2011-06-19 09:00:00.000",
                                    "5": "Account"
                                },
                                {
                                    "0": "7",
                                    "1": "Karan",
                                    "2": "Kumar",
                                    "3": "75000",
                                    "4": "2020-01-14 09:00:00.000",
                                    "5": "Account"
                                },
                                {
                                    "0": "8",
                                    "1": "Chandrika",
                                    "2": "Chauhan",
                                    "3": "90000",
                                    "4": "2011-04-15 09:00:00.000",
                                    "5": "Admin"
                                }
                            ]
                        },
                        "text/html": [
                            "<table>",
                            "<tr><th>Employee_id</th><th>First_name</th><th>Last_name</th><th>Salary</th><th>Joining_date</th><th>Department</th></tr>",
                            "<tr><td>1</td><td>Anika</td><td>Arora</td><td>100000</td><td>2020-02-14 09:00:00.000</td><td>HR</td></tr>",
                            "<tr><td>2</td><td>Veena</td><td>Verma</td><td>80000</td><td>2011-06-15 09:00:00.000</td><td>Admin</td></tr>",
                            "<tr><td>3</td><td>Vishal</td><td>Singhal</td><td>300000</td><td>2020-02-16 09:00:00.000</td><td>HR</td></tr>",
                            "<tr><td>4</td><td>Sushanth</td><td>Singh</td><td>500000</td><td>2020-02-17 09:00:00.000</td><td>Admin</td></tr>",
                            "<tr><td>5</td><td>Bhupal</td><td>Bhati</td><td>500000</td><td>2011-06-18 09:00:00.000</td><td>Admin</td></tr>",
                            "<tr><td>6</td><td>Dheeraj</td><td>Diwan</td><td>200000</td><td>2011-06-19 09:00:00.000</td><td>Account</td></tr>",
                            "<tr><td>7</td><td>Karan</td><td>Kumar</td><td>75000</td><td>2020-01-14 09:00:00.000</td><td>Account</td></tr>",
                            "<tr><td>8</td><td>Chandrika</td><td>Chauhan</td><td>90000</td><td>2011-04-15 09:00:00.000</td><td>Admin</td></tr>",
                            "</table>"
                        ]
                    }
                }
            ],
            "execution_count": 69
        },
        {
            "cell_type": "markdown",
            "source": [
                "###  DISPLAY the TOP 2 highest salary from a table."
            ],
            "metadata": {
                "language": "",
                "azdata_cell_guid": "f28dd0fa-b684-4cbf-8a53-62c24a642f74"
            },
            "attachments": {}
        },
        {
            "cell_type": "code",
            "source": [
                "SELECT * FROM Employee ORDER BY Salary DESC;\n",
                "Select TOP 2 * from Employee ORDER BY Salary DESC;\n",
                "/*MySQL: Select distinct (Salary) from Employee order by Salary DESC LIMIT 2;*/"
            ],
            "metadata": {
                "azdata_cell_guid": "6a8e46f0-7510-4235-9417-59de17c68029",
                "language": "sql"
            },
            "outputs": [
                {
                    "output_type": "display_data",
                    "data": {
                        "text/html": "(8 rows affected)"
                    },
                    "metadata": {}
                },
                {
                    "output_type": "display_data",
                    "data": {
                        "text/html": "(2 rows affected)"
                    },
                    "metadata": {}
                },
                {
                    "output_type": "display_data",
                    "data": {
                        "text/html": "Total execution time: 00:00:00.002"
                    },
                    "metadata": {}
                },
                {
                    "output_type": "execute_result",
                    "metadata": {},
                    "execution_count": 78,
                    "data": {
                        "application/vnd.dataresource+json": {
                            "schema": {
                                "fields": [
                                    {
                                        "name": "Employee_id"
                                    },
                                    {
                                        "name": "First_name"
                                    },
                                    {
                                        "name": "Last_name"
                                    },
                                    {
                                        "name": "Salary"
                                    },
                                    {
                                        "name": "Joining_date"
                                    },
                                    {
                                        "name": "Department"
                                    }
                                ]
                            },
                            "data": [
                                {
                                    "0": "4",
                                    "1": "Sushanth",
                                    "2": "Singh",
                                    "3": "500000",
                                    "4": "2020-02-17 09:00:00.000",
                                    "5": "Admin"
                                },
                                {
                                    "0": "5",
                                    "1": "Bhupal",
                                    "2": "Bhati",
                                    "3": "500000",
                                    "4": "2011-06-18 09:00:00.000",
                                    "5": "Admin"
                                },
                                {
                                    "0": "3",
                                    "1": "Vishal",
                                    "2": "Singhal",
                                    "3": "300000",
                                    "4": "2020-02-16 09:00:00.000",
                                    "5": "HR"
                                },
                                {
                                    "0": "6",
                                    "1": "Dheeraj",
                                    "2": "Diwan",
                                    "3": "200000",
                                    "4": "2011-06-19 09:00:00.000",
                                    "5": "Account"
                                },
                                {
                                    "0": "1",
                                    "1": "Anika",
                                    "2": "Arora",
                                    "3": "100000",
                                    "4": "2020-02-14 09:00:00.000",
                                    "5": "HR"
                                },
                                {
                                    "0": "8",
                                    "1": "Chandrika",
                                    "2": "Chauhan",
                                    "3": "90000",
                                    "4": "2011-04-15 09:00:00.000",
                                    "5": "Admin"
                                },
                                {
                                    "0": "2",
                                    "1": "Veena",
                                    "2": "Verma",
                                    "3": "80000",
                                    "4": "2011-06-15 09:00:00.000",
                                    "5": "Admin"
                                },
                                {
                                    "0": "7",
                                    "1": "Karan",
                                    "2": "Kumar",
                                    "3": "75000",
                                    "4": "2020-01-14 09:00:00.000",
                                    "5": "Account"
                                }
                            ]
                        },
                        "text/html": [
                            "<table>",
                            "<tr><th>Employee_id</th><th>First_name</th><th>Last_name</th><th>Salary</th><th>Joining_date</th><th>Department</th></tr>",
                            "<tr><td>4</td><td>Sushanth</td><td>Singh</td><td>500000</td><td>2020-02-17 09:00:00.000</td><td>Admin</td></tr>",
                            "<tr><td>5</td><td>Bhupal</td><td>Bhati</td><td>500000</td><td>2011-06-18 09:00:00.000</td><td>Admin</td></tr>",
                            "<tr><td>3</td><td>Vishal</td><td>Singhal</td><td>300000</td><td>2020-02-16 09:00:00.000</td><td>HR</td></tr>",
                            "<tr><td>6</td><td>Dheeraj</td><td>Diwan</td><td>200000</td><td>2011-06-19 09:00:00.000</td><td>Account</td></tr>",
                            "<tr><td>1</td><td>Anika</td><td>Arora</td><td>100000</td><td>2020-02-14 09:00:00.000</td><td>HR</td></tr>",
                            "<tr><td>8</td><td>Chandrika</td><td>Chauhan</td><td>90000</td><td>2011-04-15 09:00:00.000</td><td>Admin</td></tr>",
                            "<tr><td>2</td><td>Veena</td><td>Verma</td><td>80000</td><td>2011-06-15 09:00:00.000</td><td>Admin</td></tr>",
                            "<tr><td>7</td><td>Karan</td><td>Kumar</td><td>75000</td><td>2020-01-14 09:00:00.000</td><td>Account</td></tr>",
                            "</table>"
                        ]
                    }
                },
                {
                    "output_type": "execute_result",
                    "metadata": {},
                    "execution_count": 78,
                    "data": {
                        "application/vnd.dataresource+json": {
                            "schema": {
                                "fields": [
                                    {
                                        "name": "Employee_id"
                                    },
                                    {
                                        "name": "First_name"
                                    },
                                    {
                                        "name": "Last_name"
                                    },
                                    {
                                        "name": "Salary"
                                    },
                                    {
                                        "name": "Joining_date"
                                    },
                                    {
                                        "name": "Department"
                                    }
                                ]
                            },
                            "data": [
                                {
                                    "0": "4",
                                    "1": "Sushanth",
                                    "2": "Singh",
                                    "3": "500000",
                                    "4": "2020-02-17 09:00:00.000",
                                    "5": "Admin"
                                },
                                {
                                    "0": "5",
                                    "1": "Bhupal",
                                    "2": "Bhati",
                                    "3": "500000",
                                    "4": "2011-06-18 09:00:00.000",
                                    "5": "Admin"
                                }
                            ]
                        },
                        "text/html": [
                            "<table>",
                            "<tr><th>Employee_id</th><th>First_name</th><th>Last_name</th><th>Salary</th><th>Joining_date</th><th>Department</th></tr>",
                            "<tr><td>4</td><td>Sushanth</td><td>Singh</td><td>500000</td><td>2020-02-17 09:00:00.000</td><td>Admin</td></tr>",
                            "<tr><td>5</td><td>Bhupal</td><td>Bhati</td><td>500000</td><td>2011-06-18 09:00:00.000</td><td>Admin</td></tr>",
                            "</table>"
                        ]
                    }
                }
            ],
            "execution_count": 78
        },
        {
            "cell_type": "markdown",
            "source": [
                "###  DISPLAY the list of employees with the same salary."
            ],
            "metadata": {
                "language": "sql",
                "azdata_cell_guid": "90fb3935-e0d5-4935-8ba0-84e2fed54b53"
            },
            "attachments": {}
        },
        {
            "cell_type": "code",
            "source": [
                "Select First_name, Last_name, Salary from Employee\n",
                "Where Salary in(\n",
                "Select Salary from Employee Group by Salary \n",
                "Having count(*)>1 );"
            ],
            "metadata": {
                "language": "sql",
                "azdata_cell_guid": "ca3b2ac8-638c-4ccf-b7fc-d1aa1dc3e6e9",
                "tags": []
            },
            "outputs": [
                {
                    "output_type": "display_data",
                    "data": {
                        "text/html": "(2 rows affected)"
                    },
                    "metadata": {}
                },
                {
                    "output_type": "display_data",
                    "data": {
                        "text/html": "Total execution time: 00:00:00.003"
                    },
                    "metadata": {}
                },
                {
                    "output_type": "execute_result",
                    "metadata": {},
                    "execution_count": 79,
                    "data": {
                        "application/vnd.dataresource+json": {
                            "schema": {
                                "fields": [
                                    {
                                        "name": "First_name"
                                    },
                                    {
                                        "name": "Last_name"
                                    },
                                    {
                                        "name": "Salary"
                                    }
                                ]
                            },
                            "data": [
                                {
                                    "0": "Sushanth",
                                    "1": "Singh",
                                    "2": "500000"
                                },
                                {
                                    "0": "Bhupal",
                                    "1": "Bhati",
                                    "2": "500000"
                                }
                            ]
                        },
                        "text/html": [
                            "<table>",
                            "<tr><th>First_name</th><th>Last_name</th><th>Salary</th></tr>",
                            "<tr><td>Sushanth</td><td>Singh</td><td>500000</td></tr>",
                            "<tr><td>Bhupal</td><td>Bhati</td><td>500000</td></tr>",
                            "</table>"
                        ]
                    }
                }
            ],
            "execution_count": 79
        },
        {
            "cell_type": "markdown",
            "source": [
                "###  Display the second highest salary from a table."
            ],
            "metadata": {
                "language": "sql",
                "azdata_cell_guid": "1321104f-6eb4-4d6c-ad71-8c05c18fd8fc"
            },
            "attachments": {}
        },
        {
            "cell_type": "code",
            "source": [
                "Select max(Salary) from Employee\n",
                "where Salary not in (Select max(Salary)from Employee); \n",
                "\n",
                "/*MySQL: select *from Employee \n",
                "group by Salary \n",
                "order by  Salary desc limit 1,1;*/"
            ],
            "metadata": {
                "language": "sql",
                "azdata_cell_guid": "7c2b60b5-a317-4e70-b3f6-73bb3edbb872",
                "tags": []
            },
            "outputs": [
                {
                    "output_type": "display_data",
                    "data": {
                        "text/html": "(1 row affected)"
                    },
                    "metadata": {}
                },
                {
                    "output_type": "display_data",
                    "data": {
                        "text/html": "Total execution time: 00:00:00.001"
                    },
                    "metadata": {}
                },
                {
                    "output_type": "execute_result",
                    "metadata": {},
                    "execution_count": 92,
                    "data": {
                        "application/vnd.dataresource+json": {
                            "schema": {
                                "fields": [
                                    {
                                        "name": "(No column name)"
                                    }
                                ]
                            },
                            "data": [
                                {
                                    "0": "300000"
                                }
                            ]
                        },
                        "text/html": [
                            "<table>",
                            "<tr><th>(No column name)</th></tr>",
                            "<tr><td>300000</td></tr>",
                            "</table>"
                        ]
                    }
                }
            ],
            "execution_count": 92
        },
        {
            "cell_type": "markdown",
            "source": [
                "###  Display the first 50% records from a table."
            ],
            "metadata": {
                "language": "sql",
                "azdata_cell_guid": "40f11cb4-8ecc-4c60-844c-d4d88cc44fa2"
            },
            "attachments": {}
        },
        {
            "cell_type": "code",
            "source": [
                "\n",
                "\n",
                "SELECT Top 50 percent * from Employee;\n",
                "\n",
                "\n",
                "/*My SQL: select count(*)/2 from Employee;\n",
                "select *  from Employee limit 4;*/\n",
                ""
            ],
            "metadata": {
                "language": "sql",
                "azdata_cell_guid": "a0bd6491-c97f-43f1-9c70-e96255c100ca",
                "tags": []
            },
            "outputs": [
                {
                    "output_type": "display_data",
                    "data": {
                        "text/html": "(4 rows affected)"
                    },
                    "metadata": {}
                },
                {
                    "output_type": "display_data",
                    "data": {
                        "text/html": "Total execution time: 00:00:00.002"
                    },
                    "metadata": {}
                },
                {
                    "output_type": "execute_result",
                    "metadata": {},
                    "execution_count": 96,
                    "data": {
                        "application/vnd.dataresource+json": {
                            "schema": {
                                "fields": [
                                    {
                                        "name": "Employee_id"
                                    },
                                    {
                                        "name": "First_name"
                                    },
                                    {
                                        "name": "Last_name"
                                    },
                                    {
                                        "name": "Salary"
                                    },
                                    {
                                        "name": "Joining_date"
                                    },
                                    {
                                        "name": "Department"
                                    }
                                ]
                            },
                            "data": [
                                {
                                    "0": "1",
                                    "1": "Anika",
                                    "2": "Arora",
                                    "3": "100000",
                                    "4": "2020-02-14 09:00:00.000",
                                    "5": "HR"
                                },
                                {
                                    "0": "2",
                                    "1": "Veena",
                                    "2": "Verma",
                                    "3": "80000",
                                    "4": "2011-06-15 09:00:00.000",
                                    "5": "Admin"
                                },
                                {
                                    "0": "3",
                                    "1": "Vishal",
                                    "2": "Singhal",
                                    "3": "300000",
                                    "4": "2020-02-16 09:00:00.000",
                                    "5": "HR"
                                },
                                {
                                    "0": "4",
                                    "1": "Sushanth",
                                    "2": "Singh",
                                    "3": "500000",
                                    "4": "2020-02-17 09:00:00.000",
                                    "5": "Admin"
                                }
                            ]
                        },
                        "text/html": [
                            "<table>",
                            "<tr><th>Employee_id</th><th>First_name</th><th>Last_name</th><th>Salary</th><th>Joining_date</th><th>Department</th></tr>",
                            "<tr><td>1</td><td>Anika</td><td>Arora</td><td>100000</td><td>2020-02-14 09:00:00.000</td><td>HR</td></tr>",
                            "<tr><td>2</td><td>Veena</td><td>Verma</td><td>80000</td><td>2011-06-15 09:00:00.000</td><td>Admin</td></tr>",
                            "<tr><td>3</td><td>Vishal</td><td>Singhal</td><td>300000</td><td>2020-02-16 09:00:00.000</td><td>HR</td></tr>",
                            "<tr><td>4</td><td>Sushanth</td><td>Singh</td><td>500000</td><td>2020-02-17 09:00:00.000</td><td>Admin</td></tr>",
                            "</table>"
                        ]
                    }
                }
            ],
            "execution_count": 96
        },
        {
            "cell_type": "markdown",
            "source": [
                "###  . Display the departments that have less than 4 people in it."
            ],
            "metadata": {
                "language": "sql",
                "azdata_cell_guid": "6b5ac34a-28a2-4374-8acc-a47deca60bca"
            },
            "attachments": {}
        },
        {
            "cell_type": "code",
            "source": [
                "Select Department, count(*)\n",
                "From Employee\n",
                "Group by Department\n",
                "Having count(*)<4;"
            ],
            "metadata": {
                "language": "sql",
                "azdata_cell_guid": "314d089b-7696-48e6-bb00-ceea51366120"
            },
            "outputs": [
                {
                    "output_type": "display_data",
                    "data": {
                        "text/html": "(2 rows affected)"
                    },
                    "metadata": {}
                },
                {
                    "output_type": "display_data",
                    "data": {
                        "text/html": "Total execution time: 00:00:00.002"
                    },
                    "metadata": {}
                },
                {
                    "output_type": "execute_result",
                    "metadata": {},
                    "execution_count": 97,
                    "data": {
                        "application/vnd.dataresource+json": {
                            "schema": {
                                "fields": [
                                    {
                                        "name": "Department"
                                    },
                                    {
                                        "name": "(No column name)"
                                    }
                                ]
                            },
                            "data": [
                                {
                                    "0": "Account",
                                    "1": "2"
                                },
                                {
                                    "0": "HR",
                                    "1": "2"
                                }
                            ]
                        },
                        "text/html": [
                            "<table>",
                            "<tr><th>Department</th><th>(No column name)</th></tr>",
                            "<tr><td>Account</td><td>2</td></tr>",
                            "<tr><td>HR</td><td>2</td></tr>",
                            "</table>"
                        ]
                    }
                }
            ],
            "execution_count": 97
        },
        {
            "cell_type": "markdown",
            "source": [
                "###  Display all departments along with the number of people in there."
            ],
            "metadata": {
                "language": "sql",
                "azdata_cell_guid": "8277d769-4f0e-45cd-8f2f-a9d10873966c"
            },
            "attachments": {}
        },
        {
            "cell_type": "code",
            "source": [
                "Select Department, count(*)\n",
                "From Employee\n",
                "Group by Department;"
            ],
            "metadata": {
                "language": "sql",
                "azdata_cell_guid": "b3f6ac43-c39f-4341-87fa-cd0efcad633c"
            },
            "outputs": [
                {
                    "output_type": "display_data",
                    "data": {
                        "text/html": "(3 rows affected)"
                    },
                    "metadata": {}
                },
                {
                    "output_type": "display_data",
                    "data": {
                        "text/html": "Total execution time: 00:00:00.002"
                    },
                    "metadata": {}
                },
                {
                    "output_type": "execute_result",
                    "metadata": {},
                    "execution_count": 98,
                    "data": {
                        "application/vnd.dataresource+json": {
                            "schema": {
                                "fields": [
                                    {
                                        "name": "Department"
                                    },
                                    {
                                        "name": "(No column name)"
                                    }
                                ]
                            },
                            "data": [
                                {
                                    "0": "Account",
                                    "1": "2"
                                },
                                {
                                    "0": "Admin",
                                    "1": "4"
                                },
                                {
                                    "0": "HR",
                                    "1": "2"
                                }
                            ]
                        },
                        "text/html": [
                            "<table>",
                            "<tr><th>Department</th><th>(No column name)</th></tr>",
                            "<tr><td>Account</td><td>2</td></tr>",
                            "<tr><td>Admin</td><td>4</td></tr>",
                            "<tr><td>HR</td><td>2</td></tr>",
                            "</table>"
                        ]
                    }
                }
            ],
            "execution_count": 98
        },
        {
            "cell_type": "markdown",
            "source": [
                "###  Display the name of employees having the highest salary in each department."
            ],
            "metadata": {
                "language": "sql",
                "azdata_cell_guid": "7f6cdec1-1fa1-4b4c-b9fe-6bed17c8ce6d"
            },
            "attachments": {}
        },
        {
            "cell_type": "code",
            "source": [
                "SELECT Department, MAX(Salary) FROM Employee GROUP BY Department;\n",
                "\n",
                "\n",
                "\n",
                "/*MySQL: Select First_name, Last_name, Salary, Department from Employee\n",
                "Where (Department, Salary) in (Select Department, max(Salary)\n",
                "From Employee Group by Department);*/\n",
                "\n",
                ""
            ],
            "metadata": {
                "language": "sql",
                "azdata_cell_guid": "3daa62bc-9d77-4c0e-a8d3-869b289c7a60",
                "tags": []
            },
            "outputs": [
                {
                    "output_type": "display_data",
                    "data": {
                        "text/html": "(3 rows affected)"
                    },
                    "metadata": {}
                },
                {
                    "output_type": "display_data",
                    "data": {
                        "text/html": "Total execution time: 00:00:00.003"
                    },
                    "metadata": {}
                },
                {
                    "output_type": "execute_result",
                    "metadata": {},
                    "execution_count": 109,
                    "data": {
                        "application/vnd.dataresource+json": {
                            "schema": {
                                "fields": [
                                    {
                                        "name": "Department"
                                    },
                                    {
                                        "name": "(No column name)"
                                    }
                                ]
                            },
                            "data": [
                                {
                                    "0": "Account",
                                    "1": "200000"
                                },
                                {
                                    "0": "Admin",
                                    "1": "500000"
                                },
                                {
                                    "0": "HR",
                                    "1": "300000"
                                }
                            ]
                        },
                        "text/html": [
                            "<table>",
                            "<tr><th>Department</th><th>(No column name)</th></tr>",
                            "<tr><td>Account</td><td>200000</td></tr>",
                            "<tr><td>Admin</td><td>500000</td></tr>",
                            "<tr><td>HR</td><td>300000</td></tr>",
                            "</table>"
                        ]
                    }
                }
            ],
            "execution_count": 109
        },
        {
            "cell_type": "markdown",
            "source": [
                "###  Display the names of employees who earn the highest salary."
            ],
            "metadata": {
                "language": "sql",
                "azdata_cell_guid": "eb18a494-c71a-4047-acef-495939e8827e"
            },
            "attachments": {}
        },
        {
            "cell_type": "code",
            "source": [
                "Select * from Employee \n",
                "Where Salary in (Select max(Salary)from Employee);"
            ],
            "metadata": {
                "language": "sql",
                "azdata_cell_guid": "1a3a5bdc-1c8f-4d51-82af-77036f104fc3"
            },
            "outputs": [
                {
                    "output_type": "display_data",
                    "data": {
                        "text/html": "(2 rows affected)"
                    },
                    "metadata": {}
                },
                {
                    "output_type": "display_data",
                    "data": {
                        "text/html": "Total execution time: 00:00:00.082"
                    },
                    "metadata": {}
                },
                {
                    "output_type": "execute_result",
                    "metadata": {},
                    "execution_count": 102,
                    "data": {
                        "application/vnd.dataresource+json": {
                            "schema": {
                                "fields": [
                                    {
                                        "name": "Employee_id"
                                    },
                                    {
                                        "name": "First_name"
                                    },
                                    {
                                        "name": "Last_name"
                                    },
                                    {
                                        "name": "Salary"
                                    },
                                    {
                                        "name": "Joining_date"
                                    },
                                    {
                                        "name": "Department"
                                    }
                                ]
                            },
                            "data": [
                                {
                                    "0": "4",
                                    "1": "Sushanth",
                                    "2": "Singh",
                                    "3": "500000",
                                    "4": "2020-02-17 09:00:00.000",
                                    "5": "Admin"
                                },
                                {
                                    "0": "5",
                                    "1": "Bhupal",
                                    "2": "Bhati",
                                    "3": "500000",
                                    "4": "2011-06-18 09:00:00.000",
                                    "5": "Admin"
                                }
                            ]
                        },
                        "text/html": [
                            "<table>",
                            "<tr><th>Employee_id</th><th>First_name</th><th>Last_name</th><th>Salary</th><th>Joining_date</th><th>Department</th></tr>",
                            "<tr><td>4</td><td>Sushanth</td><td>Singh</td><td>500000</td><td>2020-02-17 09:00:00.000</td><td>Admin</td></tr>",
                            "<tr><td>5</td><td>Bhupal</td><td>Bhati</td><td>500000</td><td>2011-06-18 09:00:00.000</td><td>Admin</td></tr>",
                            "</table>"
                        ]
                    }
                }
            ],
            "execution_count": 102
        },
        {
            "cell_type": "markdown",
            "source": [
                "###"
            ],
            "metadata": {
                "language": "sql",
                "azdata_cell_guid": "88e81925-b812-4dab-8231-d45f85aaac0f"
            },
            "attachments": {}
        },
        {
            "cell_type": "markdown",
            "source": [
                "###  Diplay the average salaries for each department"
            ],
            "metadata": {
                "language": "sql",
                "azdata_cell_guid": "2fbb33b0-b129-4e7c-bb87-dc6ad45e6708"
            },
            "attachments": {}
        },
        {
            "cell_type": "code",
            "source": [
                "Select Department, Avg(Salary) as\n",
                "Average_Salary from Employee Group by Department;"
            ],
            "metadata": {
                "language": "sql",
                "azdata_cell_guid": "6d07f9eb-452c-4615-8a5e-4b824c15ad27"
            },
            "outputs": [
                {
                    "output_type": "display_data",
                    "data": {
                        "text/html": "(3 rows affected)"
                    },
                    "metadata": {}
                },
                {
                    "output_type": "display_data",
                    "data": {
                        "text/html": "Total execution time: 00:00:00.003"
                    },
                    "metadata": {}
                },
                {
                    "output_type": "execute_result",
                    "metadata": {},
                    "execution_count": 106,
                    "data": {
                        "application/vnd.dataresource+json": {
                            "schema": {
                                "fields": [
                                    {
                                        "name": "Department"
                                    },
                                    {
                                        "name": "Average_Salary"
                                    }
                                ]
                            },
                            "data": [
                                {
                                    "0": "Account",
                                    "1": "137500"
                                },
                                {
                                    "0": "Admin",
                                    "1": "292500"
                                },
                                {
                                    "0": "HR",
                                    "1": "200000"
                                }
                            ]
                        },
                        "text/html": [
                            "<table>",
                            "<tr><th>Department</th><th>Average_Salary</th></tr>",
                            "<tr><td>Account</td><td>137500</td></tr>",
                            "<tr><td>Admin</td><td>292500</td></tr>",
                            "<tr><td>HR</td><td>200000</td></tr>",
                            "</table>"
                        ]
                    }
                }
            ],
            "execution_count": 106
        },
        {
            "cell_type": "markdown",
            "source": [
                "###  display the name of the employee who has got maximum bonus"
            ],
            "metadata": {
                "azdata_cell_guid": "edc8a1b5-1b93-4f9e-85d8-18b23d4ea8d1"
            },
            "attachments": {}
        },
        {
            "cell_type": "code",
            "source": [
                "Select Employee_id, First_name, Last_name, Salary, Employee.Department, Employee_ref_id, Bonus_Amount\n",
                "FROM Employee\n",
                "INNER JOIN Employee_Bonus ON\n",
                "Employee_id = Employee_ref_id\n",
                "Where Bonus_Amount in (Select max(Bonus_Amount)from Employee_Bonus);\n",
                "\n",
                "/* MySQL:Select Employee.Employee_id, Employee.First_name, Employee.Last_name, Employee.Salary, Employee.Department, Employee_Bonus.Employee_ref_id, Employee_Bonus.Bonus_Amount\n",
                "FROM Employee\n",
                "INNER JOIN Employee_Bonus ON\n",
                "Employee.Employee_id = Employee_Bonus.Employee_ref_id\n",
                "Where Bonus_Amount in (Select max(Bonus_Amount)from Employee_Bonus);*/\n",
                ""
            ],
            "metadata": {
                "azdata_cell_guid": "d9d7008e-b9e6-4fc0-a6a8-9f42ae596ad1",
                "language": "sql"
            },
            "outputs": [
                {
                    "output_type": "display_data",
                    "data": {
                        "text/html": "(1 row affected)"
                    },
                    "metadata": {}
                },
                {
                    "output_type": "display_data",
                    "data": {
                        "text/html": "Total execution time: 00:00:00.007"
                    },
                    "metadata": {}
                },
                {
                    "output_type": "execute_result",
                    "metadata": {},
                    "execution_count": 110,
                    "data": {
                        "application/vnd.dataresource+json": {
                            "schema": {
                                "fields": [
                                    {
                                        "name": "Employee_id"
                                    },
                                    {
                                        "name": "First_name"
                                    },
                                    {
                                        "name": "Last_name"
                                    },
                                    {
                                        "name": "Salary"
                                    },
                                    {
                                        "name": "Department"
                                    },
                                    {
                                        "name": "Employee_ref_id"
                                    },
                                    {
                                        "name": "Bonus_Amount"
                                    }
                                ]
                            },
                            "data": [
                                {
                                    "0": "1",
                                    "1": "Anika",
                                    "2": "Arora",
                                    "3": "100000",
                                    "4": "HR",
                                    "5": "1",
                                    "6": "5000"
                                }
                            ]
                        },
                        "text/html": [
                            "<table>",
                            "<tr><th>Employee_id</th><th>First_name</th><th>Last_name</th><th>Salary</th><th>Department</th><th>Employee_ref_id</th><th>Bonus_Amount</th></tr>",
                            "<tr><td>1</td><td>Anika</td><td>Arora</td><td>100000</td><td>HR</td><td>1</td><td>5000</td></tr>",
                            "</table>"
                        ]
                    }
                }
            ],
            "execution_count": 110
        },
        {
            "cell_type": "markdown",
            "source": [
                "###  Display the first name and title of all the employees"
            ],
            "metadata": {
                "azdata_cell_guid": "13707698-9929-4cbc-ae20-70bde4024d64"
            },
            "attachments": {}
        },
        {
            "cell_type": "code",
            "source": [
                "Select Employee.First_name,Employee_Title.Employee_title FROM Employee \n",
                "INNER JOIN Employee_Title ON\n",
                "Employee.Employee_id = Employee_Title.Employee_ref_id;\n",
                ""
            ],
            "metadata": {
                "azdata_cell_guid": "dd7da868-d089-471d-a942-3806021eb5e4",
                "language": "sql"
            },
            "outputs": [
                {
                    "output_type": "display_data",
                    "data": {
                        "text/html": "(8 rows affected)"
                    },
                    "metadata": {}
                },
                {
                    "output_type": "display_data",
                    "data": {
                        "text/html": "Total execution time: 00:00:00.003"
                    },
                    "metadata": {}
                },
                {
                    "output_type": "execute_result",
                    "metadata": {},
                    "execution_count": 108,
                    "data": {
                        "application/vnd.dataresource+json": {
                            "schema": {
                                "fields": [
                                    {
                                        "name": "First_name"
                                    },
                                    {
                                        "name": "Employee_title"
                                    }
                                ]
                            },
                            "data": [
                                {
                                    "0": "Anika",
                                    "1": "Manager"
                                },
                                {
                                    "0": "Veena",
                                    "1": "Executive"
                                },
                                {
                                    "0": "Chandrika",
                                    "1": "Executive"
                                },
                                {
                                    "0": "Bhupal",
                                    "1": "Manager"
                                },
                                {
                                    "0": "Sushanth",
                                    "1": "Asst.Manager"
                                },
                                {
                                    "0": "Karan",
                                    "1": "Executive"
                                },
                                {
                                    "0": "Dheeraj",
                                    "1": "Lead"
                                },
                                {
                                    "0": "Vishal",
                                    "1": "Lead"
                                }
                            ]
                        },
                        "text/html": [
                            "<table>",
                            "<tr><th>First_name</th><th>Employee_title</th></tr>",
                            "<tr><td>Anika</td><td>Manager</td></tr>",
                            "<tr><td>Veena</td><td>Executive</td></tr>",
                            "<tr><td>Chandrika</td><td>Executive</td></tr>",
                            "<tr><td>Bhupal</td><td>Manager</td></tr>",
                            "<tr><td>Sushanth</td><td>Asst.Manager</td></tr>",
                            "<tr><td>Karan</td><td>Executive</td></tr>",
                            "<tr><td>Dheeraj</td><td>Lead</td></tr>",
                            "<tr><td>Vishal</td><td>Lead</td></tr>",
                            "</table>"
                        ]
                    }
                }
            ],
            "execution_count": 108
        }
    ]
}